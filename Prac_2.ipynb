{
  "cells": [
    {
      "cell_type": "markdown",
      "metadata": {
        "id": "view-in-github",
        "colab_type": "text"
      },
      "source": [
        "<a href=\"https://colab.research.google.com/github/Madhu-g24/Madhu-g24/blob/main/Prac_2.ipynb\" target=\"_parent\"><img src=\"https://colab.research.google.com/assets/colab-badge.svg\" alt=\"Open In Colab\"/></a>"
      ]
    },
    {
      "cell_type": "code",
      "execution_count": 1,
      "id": "116fec83-c586-4ad2-a4d1-2053cd6cd016",
      "metadata": {
        "id": "116fec83-c586-4ad2-a4d1-2053cd6cd016",
        "outputId": "6caeee26-508f-4afc-d168-bf81b24de241",
        "colab": {
          "base_uri": "https://localhost:8080/",
          "height": 52
        }
      },
      "outputs": [
        {
          "name": "stdout",
          "output_type": "stream",
          "text": [
            "what is your name?abc\n"
          ]
        },
        {
          "output_type": "execute_result",
          "data": {
            "text/plain": [
              "'abc'"
            ],
            "application/vnd.google.colaboratory.intrinsic+json": {
              "type": "string"
            }
          },
          "metadata": {},
          "execution_count": 1
        }
      ],
      "source": [
        "input('what is your name?')"
      ]
    },
    {
      "cell_type": "code",
      "execution_count": 2,
      "id": "43d2190d-45b8-4895-a40e-483ab0fa3037",
      "metadata": {
        "id": "43d2190d-45b8-4895-a40e-483ab0fa3037",
        "outputId": "ea7d5e39-987d-4d47-ffec-84ba27c0ca82",
        "colab": {
          "base_uri": "https://localhost:8080/"
        }
      },
      "outputs": [
        {
          "name": "stdout",
          "output_type": "stream",
          "text": [
            "Rahul your age please67\n"
          ]
        }
      ],
      "source": [
        "age = input('Rahul your age please')"
      ]
    },
    {
      "cell_type": "code",
      "execution_count": 3,
      "id": "d769a58f-c1a0-4449-a0cf-2d49db280312",
      "metadata": {
        "id": "d769a58f-c1a0-4449-a0cf-2d49db280312",
        "outputId": "bdd898d5-3b1a-4501-d18a-d3ca8703b13b",
        "colab": {
          "base_uri": "https://localhost:8080/"
        }
      },
      "outputs": [
        {
          "output_type": "stream",
          "name": "stdout",
          "text": [
            "Collecting emoji\n",
            "  Downloading emoji-2.14.1-py3-none-any.whl.metadata (5.7 kB)\n",
            "Downloading emoji-2.14.1-py3-none-any.whl (590 kB)\n",
            "\u001b[?25l   \u001b[90m━━━━━━━━━━━━━━━━━━━━━━━━━━━━━━━━━━━━━━━━\u001b[0m \u001b[32m0.0/590.6 kB\u001b[0m \u001b[31m?\u001b[0m eta \u001b[36m-:--:--\u001b[0m\r\u001b[2K   \u001b[90m━━━━━━━━━━━━━━━━━━━━━━━━━━━━━━━━━━━━━━━━\u001b[0m \u001b[32m590.6/590.6 kB\u001b[0m \u001b[31m23.2 MB/s\u001b[0m eta \u001b[36m0:00:00\u001b[0m\n",
            "\u001b[?25hInstalling collected packages: emoji\n",
            "Successfully installed emoji-2.14.1\n"
          ]
        }
      ],
      "source": [
        "pip install emoji"
      ]
    },
    {
      "cell_type": "code",
      "execution_count": 4,
      "id": "a070aaac-5ddc-4744-a7db-ff832ea096f8",
      "metadata": {
        "id": "a070aaac-5ddc-4744-a7db-ff832ea096f8",
        "outputId": "15c26de9-a279-4b1f-b0cf-1334af809de4",
        "colab": {
          "base_uri": "https://localhost:8080/"
        }
      },
      "outputs": [
        {
          "output_type": "stream",
          "name": "stdout",
          "text": [
            "𑽠0\n"
          ]
        }
      ],
      "source": [
        "import emoji\n",
        "# Display emoji using unicode codeprint\n",
        "grinning_face = emoji.emojize(\"\\U00011F600\") #unicode for grinning_face\n",
        "print(grinning_face)"
      ]
    },
    {
      "cell_type": "code",
      "execution_count": 5,
      "id": "460dc05b-e7fd-4ec6-919e-23f77c64c028",
      "metadata": {
        "id": "460dc05b-e7fd-4ec6-919e-23f77c64c028",
        "outputId": "a76c5850-79b8-47a0-9bc1-d6699aaf7a83",
        "colab": {
          "base_uri": "https://localhost:8080/"
        }
      },
      "outputs": [
        {
          "output_type": "stream",
          "name": "stdout",
          "text": [
            "I 🧡 Tyalor Swift 🎤 and data Science 📊\n"
          ]
        }
      ],
      "source": [
        "heart_emoji=emoji.emojize(':orange_heart:')\n",
        "microphone_emoji= emoji.emojize(':microphone:')\n",
        "barchart_emoji= emoji.emojize(':bar_chart:')\n",
        "sentence= f'I {heart_emoji} Tyalor Swift {microphone_emoji} and data Science {barchart_emoji}'\n",
        "print(sentence)"
      ]
    },
    {
      "cell_type": "code",
      "execution_count": 6,
      "id": "ee742047-9088-4345-8faf-e754431c6bff",
      "metadata": {
        "id": "ee742047-9088-4345-8faf-e754431c6bff"
      },
      "outputs": [],
      "source": [
        "def add(num1, num2, num3):\n",
        "    sum3nums = num1 +num2 +num3\n",
        "    return sum3nums\n"
      ]
    },
    {
      "cell_type": "code",
      "execution_count": 7,
      "id": "01442afa-dd7a-4087-82ed-fe2ce1c33f44",
      "metadata": {
        "id": "01442afa-dd7a-4087-82ed-fe2ce1c33f44",
        "outputId": "13862ef5-fbc5-47f1-ed44-fed4bd8ed92a",
        "colab": {
          "base_uri": "https://localhost:8080/"
        }
      },
      "outputs": [
        {
          "output_type": "stream",
          "name": "stdout",
          "text": [
            "50.26548245743669\n"
          ]
        }
      ],
      "source": [
        "from math import pi #import the constant pi from math module\n",
        "\n",
        "def area_of_circle(radius):\n",
        "    # area of a circle with the radius\n",
        "    area = pi * radius ** 2\n",
        "    return area\n",
        "radius = 4\n",
        "area = area_of_circle(radius)\n",
        "print(area)"
      ]
    },
    {
      "cell_type": "code",
      "execution_count": 8,
      "id": "bf2b8705-6b5a-4e0e-b366-48121aa25ca5",
      "metadata": {
        "id": "bf2b8705-6b5a-4e0e-b366-48121aa25ca5",
        "outputId": "35f70973-a173-4e14-c725-630370e8513a",
        "colab": {
          "base_uri": "https://localhost:8080/"
        }
      },
      "outputs": [
        {
          "output_type": "stream",
          "name": "stdout",
          "text": [
            "Help on function area_of_circle in module __main__:\n",
            "\n",
            "area_of_circle(radius)\n",
            "\n"
          ]
        }
      ],
      "source": [
        "help(area_of_circle)"
      ]
    },
    {
      "cell_type": "code",
      "execution_count": 9,
      "id": "aa8de930-4e20-4179-90c6-71245b038a51",
      "metadata": {
        "id": "aa8de930-4e20-4179-90c6-71245b038a51",
        "outputId": "975d037e-d653-4a6c-d2c5-2556b5ba06f4",
        "colab": {
          "base_uri": "https://localhost:8080/"
        }
      },
      "outputs": [
        {
          "output_type": "stream",
          "name": "stdout",
          "text": [
            "Help on built-in function print in module builtins:\n",
            "\n",
            "print(*args, sep=' ', end='\\n', file=None, flush=False)\n",
            "    Prints the values to a stream, or to sys.stdout by default.\n",
            "    \n",
            "    sep\n",
            "      string inserted between values, default a space.\n",
            "    end\n",
            "      string appended after the last value, default a newline.\n",
            "    file\n",
            "      a file-like object (stream); defaults to the current sys.stdout.\n",
            "    flush\n",
            "      whether to forcibly flush the stream.\n",
            "\n"
          ]
        }
      ],
      "source": [
        "help(print)"
      ]
    },
    {
      "cell_type": "code",
      "execution_count": 10,
      "id": "9ee6fe51-3878-471a-9aee-c641d9c6147f",
      "metadata": {
        "id": "9ee6fe51-3878-471a-9aee-c641d9c6147f",
        "outputId": "864cfe75-4c7f-4d46-b7c9-e87b3038a94c",
        "colab": {
          "base_uri": "https://localhost:8080/"
        }
      },
      "outputs": [
        {
          "output_type": "stream",
          "name": "stdout",
          "text": [
            "11\n"
          ]
        }
      ],
      "source": [
        "x = '1' + '1'\n",
        "print (x)"
      ]
    },
    {
      "cell_type": "code",
      "execution_count": 11,
      "id": "9a3dea30-4291-41f8-bdd5-663bc5d0a31d",
      "metadata": {
        "id": "9a3dea30-4291-41f8-bdd5-663bc5d0a31d",
        "outputId": "0e3f3276-2ac5-4c78-86e9-94750d8c4753",
        "colab": {
          "base_uri": "https://localhost:8080/"
        }
      },
      "outputs": [
        {
          "output_type": "stream",
          "name": "stdout",
          "text": [
            "1 + 1\n"
          ]
        }
      ],
      "source": [
        "u = '1 + 1'\n",
        "print (u)"
      ]
    },
    {
      "cell_type": "code",
      "execution_count": 12,
      "id": "0406a43a-4bf2-45a8-a44c-e5de4702e2ce",
      "metadata": {
        "id": "0406a43a-4bf2-45a8-a44c-e5de4702e2ce",
        "outputId": "63fc5c14-258f-43ad-983d-1f597d0713eb",
        "colab": {
          "base_uri": "https://localhost:8080/"
        }
      },
      "outputs": [
        {
          "output_type": "stream",
          "name": "stdout",
          "text": [
            "None\n",
            "{'d': 6, 'c': 4, 'a': 10, 'b': 8}\n"
          ]
        }
      ],
      "source": [
        "#python code to merge dict update() method\n",
        "def Merge(dict1, dict2):\n",
        "    return(dict2.update(dict1))\n",
        "\n",
        "# Driver Code\n",
        "dict1 = {'a' : 10, 'b' : 8}\n",
        "dict2 = {'d' : 6, 'c' : 4}\n",
        "\n",
        "# This returns None\n",
        "print(Merge(dict1, dict2))\n",
        "\n",
        "# change mode in dict2\n",
        "print(dict2)"
      ]
    },
    {
      "cell_type": "code",
      "execution_count": 13,
      "id": "98ea422f-7b25-40f6-a0b3-d78b5b3ae197",
      "metadata": {
        "id": "98ea422f-7b25-40f6-a0b3-d78b5b3ae197",
        "outputId": "f2335de4-9003-4a53-c194-ddfc860ac946",
        "colab": {
          "base_uri": "https://localhost:8080/"
        }
      },
      "outputs": [
        {
          "output_type": "stream",
          "name": "stdout",
          "text": [
            "False\n",
            "False\n",
            "True\n"
          ]
        }
      ],
      "source": [
        "age = 30\n",
        "print(age == 25)\n",
        "\n",
        "print(age < 30)\n",
        "print(age >= 25)\n"
      ]
    },
    {
      "cell_type": "code",
      "execution_count": 14,
      "id": "b2abdae6-8763-4d21-99b2-52a777447ace",
      "metadata": {
        "id": "b2abdae6-8763-4d21-99b2-52a777447ace",
        "outputId": "f8c70b49-2186-4351-8aa7-c367180fe9b1",
        "colab": {
          "base_uri": "https://localhost:8080/"
        }
      },
      "outputs": [
        {
          "output_type": "stream",
          "name": "stdout",
          "text": [
            "number 2\n"
          ]
        }
      ],
      "source": [
        "number = 5\n",
        "\n",
        "if number >2:\n",
        "    print(\"number 2\")"
      ]
    },
    {
      "cell_type": "code",
      "execution_count": 15,
      "id": "381dfc29-ebfb-4fd3-a527-b1527c38df8a",
      "metadata": {
        "id": "381dfc29-ebfb-4fd3-a527-b1527c38df8a",
        "outputId": "52ccef04-1ca1-49b9-eb51-a70aa84972b7",
        "colab": {
          "base_uri": "https://localhost:8080/"
        }
      },
      "outputs": [
        {
          "output_type": "stream",
          "name": "stdout",
          "text": [
            "you are not eligible\n"
          ]
        }
      ],
      "source": [
        "age = 35\n",
        "if age >= 60:\n",
        "    print('you are eligible')\n",
        "else:\n",
        "    print('you are not eligible')"
      ]
    },
    {
      "cell_type": "code",
      "execution_count": 16,
      "id": "44ab42aa-660f-4747-8f19-0b0eec58224a",
      "metadata": {
        "id": "44ab42aa-660f-4747-8f19-0b0eec58224a",
        "outputId": "ff9a97c4-18a7-4e60-bb26-56f49dd73c26",
        "colab": {
          "base_uri": "https://localhost:8080/"
        }
      },
      "outputs": [
        {
          "output_type": "stream",
          "name": "stdout",
          "text": [
            "number > 2\n"
          ]
        }
      ],
      "source": [
        "number = 5\n",
        "\n",
        "if number > 2:\n",
        "    print(\"number > 2\")\n",
        "else:\n",
        "    print(\"number <= 2\")"
      ]
    },
    {
      "cell_type": "code",
      "execution_count": 17,
      "id": "582c4a04-9775-4cac-a791-c2de6eb1ac43",
      "metadata": {
        "id": "582c4a04-9775-4cac-a791-c2de6eb1ac43",
        "outputId": "33f477e4-8823-49d3-f7b3-338bd97184cf",
        "colab": {
          "base_uri": "https://localhost:8080/"
        }
      },
      "outputs": [
        {
          "output_type": "stream",
          "name": "stdout",
          "text": [
            "number is inside the range\n"
          ]
        }
      ],
      "source": [
        "lower_limit = 10\n",
        "upper_limit = 150\n",
        "\n",
        "number_to_check = 120\n",
        "\n",
        "if number_to_check >= lower_limit and number_to_check <= upper_limit:\n",
        "    print('number is inside the range')\n",
        "else:\n",
        "    print('number is outside the range')\n"
      ]
    },
    {
      "cell_type": "code",
      "execution_count": 18,
      "id": "01053227-1bf6-4c12-9b42-2cb053bb1c32",
      "metadata": {
        "id": "01053227-1bf6-4c12-9b42-2cb053bb1c32",
        "outputId": "9cf34912-bc5c-4283-aebc-7595094a6f72",
        "colab": {
          "base_uri": "https://localhost:8080/"
        }
      },
      "outputs": [
        {
          "output_type": "stream",
          "name": "stdout",
          "text": [
            "There are 20 years until you can draw your pension!\n"
          ]
        }
      ],
      "source": [
        "age = 40\n",
        "pensionable_age = 60\n",
        "\n",
        "if age < 0:\n",
        "    print('Error. Please enter an age greater than zero')\n",
        "elif age < pensionable_age:\n",
        "    years_to_pension = pensionable_age - age\n",
        "    print('There are {0} years until you can draw your pension!'\\\n",
        "         .format(years_to_pension))\n",
        "else:\n",
        "    print('You are eligible to draw your pension')"
      ]
    },
    {
      "cell_type": "code",
      "execution_count": 19,
      "id": "1d3e3b55-d3d0-4c0c-9e19-31e0cf48390d",
      "metadata": {
        "id": "1d3e3b55-d3d0-4c0c-9e19-31e0cf48390d",
        "outputId": "d36d48a3-b728-4528-b2bf-61a3ceb1c144",
        "colab": {
          "base_uri": "https://localhost:8080/"
        }
      },
      "outputs": [
        {
          "output_type": "stream",
          "name": "stdout",
          "text": [
            "You are eligible to draw your pension\n"
          ]
        }
      ],
      "source": [
        "age = 70\n",
        "pensionable_age = 60\n",
        "\n",
        "if age < 0:\n",
        "    print('Error. Please enter an age greater than zero')\n",
        "elif age < pensionable_age:\n",
        "    years_to_pension = pensionable_age - age\n",
        "    print('There are {0} years until you can draw your pension!'\\\n",
        "         .format(years_to_pension))\n",
        "else:\n",
        "    print('You are eligible to draw your pension')"
      ]
    },
    {
      "cell_type": "code",
      "execution_count": 19,
      "id": "0c8e2290-56ab-4a21-9b77-8e7c7f2b74f4",
      "metadata": {
        "id": "0c8e2290-56ab-4a21-9b77-8e7c7f2b74f4"
      },
      "outputs": [],
      "source": []
    },
    {
      "cell_type": "code",
      "execution_count": 20,
      "id": "8468be72-0d9e-477a-ba59-3d7e6f5cd15a",
      "metadata": {
        "id": "8468be72-0d9e-477a-ba59-3d7e6f5cd15a",
        "outputId": "b3c2b9c1-cac2-492d-d394-e0c94afd7080",
        "colab": {
          "base_uri": "https://localhost:8080/"
        }
      },
      "outputs": [
        {
          "output_type": "stream",
          "name": "stdout",
          "text": [
            "Number >3\n"
          ]
        }
      ],
      "source": [
        "number = 5\n",
        "\n",
        "if number > 3:\n",
        "    print(\"Number >3\")\n",
        "else:\n",
        "    print(\"Number <=2\")"
      ]
    },
    {
      "cell_type": "code",
      "execution_count": 21,
      "id": "4f40e657-2eaf-48ad-a9ee-232b86910dc2",
      "metadata": {
        "id": "4f40e657-2eaf-48ad-a9ee-232b86910dc2",
        "outputId": "ea474de3-7c80-432e-8628-c8d8ae1cce9e",
        "colab": {
          "base_uri": "https://localhost:8080/"
        }
      },
      "outputs": [
        {
          "output_type": "stream",
          "name": "stdout",
          "text": [
            "you are eligible\n"
          ]
        }
      ],
      "source": [
        "age = 35\n",
        "if age >= 20:\n",
        "    print('you are eligible')\n",
        "else:\n",
        "    print('you are not eligible')"
      ]
    },
    {
      "cell_type": "code",
      "execution_count": 22,
      "id": "deadd431-5844-49b6-8551-f2927e73bab5",
      "metadata": {
        "id": "deadd431-5844-49b6-8551-f2927e73bab5",
        "outputId": "4222d67e-1be2-433b-eaab-f3ce297cd657",
        "colab": {
          "base_uri": "https://localhost:8080/"
        }
      },
      "outputs": [
        {
          "output_type": "stream",
          "name": "stdout",
          "text": [
            "number is inside the range\n"
          ]
        }
      ],
      "source": [
        "lower_limit = 10\n",
        "upper_limit = 150\n",
        "\n",
        "number_to_check =120\n",
        "\n",
        "if number_to_check >= lower_limit and number_to_check <= upper_limit:\n",
        "    print('number is inside the range')\n",
        "else:\n",
        "    print('number is outside of the range')"
      ]
    },
    {
      "cell_type": "code",
      "execution_count": 23,
      "id": "c0b31007-0e09-4fbc-84d3-18bbb715800e",
      "metadata": {
        "id": "c0b31007-0e09-4fbc-84d3-18bbb715800e",
        "outputId": "3dd181af-35ea-410d-cb01-466a1e2d5d61",
        "colab": {
          "base_uri": "https://localhost:8080/"
        }
      },
      "outputs": [
        {
          "output_type": "stream",
          "name": "stdout",
          "text": [
            "you are eligible to draw your pension\n"
          ]
        }
      ],
      "source": [
        "age = 70\n",
        "pensionable_age = 60\n",
        "\n",
        "if age < 0:\n",
        "    print('Error.please enter an age greater than zero')\n",
        "elif age < pensionable_age:\n",
        "    years_to_pension = pensionable_age - age\n",
        "    print('There are {0) years until you can draw your pension!'\\\n",
        "          .format(years_to_pesnion))\n",
        "else:\n",
        "    print('you are eligible to draw your pension')"
      ]
    },
    {
      "cell_type": "code",
      "execution_count": 24,
      "id": "1f6c1345-eaca-4f09-87a9-ce413ed6f660",
      "metadata": {
        "id": "1f6c1345-eaca-4f09-87a9-ce413ed6f660"
      },
      "outputs": [],
      "source": [
        "def eligible_for_pension(age):\n",
        "    '''\n",
        "    Return boolean True or False to indicate if\n",
        "    one pension is eligible for their pension\n",
        "\n",
        "    keyword arguments:\n",
        "    age -- a pensions age is integer years (e.g. 32 or 45)\n",
        "    '''\n",
        "    return age >= 68"
      ]
    },
    {
      "cell_type": "code",
      "execution_count": 25,
      "id": "d1271098-ea23-4884-84c7-f13c6a77c5b7",
      "metadata": {
        "id": "d1271098-ea23-4884-84c7-f13c6a77c5b7",
        "outputId": "195beb2a-9d12-48ad-85ef-29ed0ec7ed6e",
        "colab": {
          "base_uri": "https://localhost:8080/"
        }
      },
      "outputs": [
        {
          "output_type": "stream",
          "name": "stdout",
          "text": [
            "congratulations. Yor can retire\n"
          ]
        }
      ],
      "source": [
        "age = 68\n",
        "if eligible_for_pension(age):\n",
        "    print('congratulations. Yor can retire')\n",
        "else:\n",
        "    print('You are not eligible for you are pension')"
      ]
    },
    {
      "cell_type": "code",
      "execution_count": 26,
      "id": "088262b0-06ec-442c-a9a2-11ca77f3c2db",
      "metadata": {
        "id": "088262b0-06ec-442c-a9a2-11ca77f3c2db"
      },
      "outputs": [],
      "source": [
        "def stamp_duty(house_price, first_time_buyer):\n",
        "    '''\n",
        "    First time buyers recive more tax relief\n",
        "    than people buying their next house.\n",
        "    Returns float representing the stamp duty owed.\n",
        "    '''\n",
        "    if first_time_buyer: #this if statement is nested for the first time buyer\n",
        "        if house_price <= 300000:\n",
        "            return 0.0\n",
        "        else:\n",
        "            return house_price * 0.05\n",
        "    else:\n",
        "        if house_price <125000:\n",
        "            return 0.0\n",
        "        else:\n",
        "            return house_price * 0.05"
      ]
    },
    {
      "cell_type": "code",
      "execution_count": 27,
      "id": "5aa6d4b9-32b5-442d-a8b0-0172db55aaff",
      "metadata": {
        "id": "5aa6d4b9-32b5-442d-a8b0-0172db55aaff",
        "outputId": "78eac7ae-512e-4ce4-ae20-40e6a001c904",
        "colab": {
          "base_uri": "https://localhost:8080/"
        }
      },
      "outputs": [
        {
          "output_type": "stream",
          "name": "stdout",
          "text": [
            "stamp duty owed = 0.0\n"
          ]
        }
      ],
      "source": [
        "my_first_house_price = 10000\n",
        "owed = stamp_duty(my_first_house_price,True)\n",
        "print('stamp duty owed = {0}'.format(owed))"
      ]
    },
    {
      "cell_type": "code",
      "execution_count": 28,
      "id": "3f64470f-a82f-462a-81dc-12f974d4684f",
      "metadata": {
        "id": "3f64470f-a82f-462a-81dc-12f974d4684f",
        "outputId": "cbb2b5f5-0481-4f6a-cbac-a0e42ab2c7cc",
        "colab": {
          "base_uri": "https://localhost:8080/"
        }
      },
      "outputs": [
        {
          "output_type": "stream",
          "name": "stdout",
          "text": [
            "you are currently 36 years oldyou are currently 37 years oldyou are currently 38 years oldyou are currently 39 years oldyou are currently 40 years old"
          ]
        }
      ],
      "source": [
        "age = 36\n",
        "while age <= 40:\n",
        "    print('you are currently {0} years old'.format(age), end='')\n",
        "    age += 1 # age = age + 1)"
      ]
    },
    {
      "cell_type": "code",
      "execution_count": 29,
      "id": "68a17a48-237f-4703-9e9f-f988e51a81ee",
      "metadata": {
        "id": "68a17a48-237f-4703-9e9f-f988e51a81ee",
        "outputId": "553d895c-9403-4c46-95c3-af0b09fc3de4",
        "colab": {
          "base_uri": "https://localhost:8080/"
        }
      },
      "outputs": [
        {
          "output_type": "stream",
          "name": "stdout",
          "text": [
            "you have scored 55 marks\n",
            "you have scored 56 marks\n",
            "you have scored 57 marks\n",
            "you have scored 58 marks\n",
            "you have scored 59 marks\n",
            "you have scored 60 marks\n"
          ]
        }
      ],
      "source": [
        "marks = 55\n",
        "while marks <= 60:\n",
        "    print ('you have scored {0} marks' .format (marks))\n",
        "    marks += 1"
      ]
    },
    {
      "cell_type": "code",
      "execution_count": 30,
      "id": "92fb6ff8-a302-48e8-a18a-d41f1a42da6c",
      "metadata": {
        "id": "92fb6ff8-a302-48e8-a18a-d41f1a42da6c",
        "outputId": "ed12058d-bc90-4ae0-b2d8-5daca51eb4fd",
        "colab": {
          "base_uri": "https://localhost:8080/"
        }
      },
      "outputs": [
        {
          "output_type": "stream",
          "name": "stdout",
          "text": [
            "2\n"
          ]
        }
      ],
      "source": [
        "n = 5\n",
        "y = 3\n",
        "z = n % y\n",
        "print(z)"
      ]
    },
    {
      "cell_type": "code",
      "execution_count": 31,
      "id": "7e879c3e-51e8-40a1-8439-b9815cb7cf88",
      "metadata": {
        "id": "7e879c3e-51e8-40a1-8439-b9815cb7cf88"
      },
      "outputs": [],
      "source": [
        "def fizzbuzz(n):\n",
        "    \"\"\"\n",
        "    For multiples of both three and five, print \"FizzBuzz\"\n",
        "    For multiples of three, print \"FizzBuzz\"\n",
        "    For multiples of five, print \"FizzBuzz\"\n",
        "    For others, print the number\n",
        "\n",
        "    keyword arguments:\n",
        "    n -- the number to rest\n",
        "    \"\"\"\n",
        "    if n % 3 == 0 and n % 5 == 0:\n",
        "        print('fizzbuzz')\n",
        "    elif n % 3 == 0:\n",
        "        print('fizz')\n",
        "    elif n % 5 == 0:\n",
        "        print('buzz')\n",
        "    else:\n",
        "        print(n)"
      ]
    },
    {
      "cell_type": "code",
      "execution_count": 32,
      "id": "1582bd1b-bf84-4e16-a519-5b77b9fdb281",
      "metadata": {
        "id": "1582bd1b-bf84-4e16-a519-5b77b9fdb281",
        "colab": {
          "base_uri": "https://localhost:8080/"
        },
        "outputId": "ed3ac960-8053-4950-da73-7ad2332640fc"
      },
      "outputs": [
        {
          "output_type": "stream",
          "name": "stdout",
          "text": [
            "n = 1:1\n",
            "n = 2:2\n",
            "n = 3:fizz\n",
            "n = 4:4\n",
            "n = 5:buzz\n",
            "n = 6:fizz\n",
            "n = 7:7\n",
            "n = 8:8\n",
            "n = 9:fizz\n",
            "n = 10:buzz\n",
            "n = 11:11\n",
            "n = 12:fizz\n",
            "n = 13:13\n",
            "n = 14:14\n",
            "n = 15:fizzbuzz\n"
          ]
        }
      ],
      "source": [
        "n = 1\n",
        "while n <= 15:\n",
        "    print('n = {0}:'.format(n), end='')\n",
        "    fizzbuzz(n)\n",
        "    n += 1 # n=n+1"
      ]
    }
  ],
  "metadata": {
    "kernelspec": {
      "display_name": "Python 3 (ipykernel)",
      "language": "python",
      "name": "python3"
    },
    "language_info": {
      "codemirror_mode": {
        "name": "ipython",
        "version": 3
      },
      "file_extension": ".py",
      "mimetype": "text/x-python",
      "name": "python",
      "nbconvert_exporter": "python",
      "pygments_lexer": "ipython3",
      "version": "3.12.4"
    },
    "colab": {
      "provenance": [],
      "include_colab_link": true
    }
  },
  "nbformat": 4,
  "nbformat_minor": 5
}