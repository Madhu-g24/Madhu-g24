{
  "cells": [
    {
      "cell_type": "markdown",
      "metadata": {
        "id": "view-in-github",
        "colab_type": "text"
      },
      "source": [
        "<a href=\"https://colab.research.google.com/github/Madhu-g24/Madhu-g24/blob/main/Class_1.ipynb\" target=\"_parent\"><img src=\"https://colab.research.google.com/assets/colab-badge.svg\" alt=\"Open In Colab\"/></a>"
      ]
    },
    {
      "cell_type": "code",
      "execution_count": null,
      "id": "116fec83-c586-4ad2-a4d1-2053cd6cd016",
      "metadata": {
        "id": "116fec83-c586-4ad2-a4d1-2053cd6cd016",
        "outputId": "34778b7d-ef95-482b-cb7f-adcc53022cad"
      },
      "outputs": [
        {
          "name": "stdin",
          "output_type": "stream",
          "text": [
            "what is your name? Rahul\n"
          ]
        }
      ],
      "source": [
        "input('what is your name?')"
      ]
    },
    {
      "cell_type": "code",
      "execution_count": null,
      "id": "43d2190d-45b8-4895-a40e-483ab0fa3037",
      "metadata": {
        "id": "43d2190d-45b8-4895-a40e-483ab0fa3037",
        "outputId": "c866d827-4e98-4c6a-95dc-09d2691e38c3"
      },
      "outputs": [
        {
          "name": "stdin",
          "output_type": "stream",
          "text": [
            "Rahul your age please 22\n"
          ]
        }
      ],
      "source": [
        "age = input('Rahul your age please')"
      ]
    },
    {
      "cell_type": "code",
      "execution_count": null,
      "id": "d769a58f-c1a0-4449-a0cf-2d49db280312",
      "metadata": {
        "id": "d769a58f-c1a0-4449-a0cf-2d49db280312",
        "outputId": "1514caed-0079-4756-e874-10ad6db4c545"
      },
      "outputs": [
        {
          "name": "stdout",
          "output_type": "stream",
          "text": [
            "Requirement already satisfied: emoji in c:\\users\\user\\anaconda3\\lib\\site-packages (2.12.1)\n",
            "Requirement already satisfied: typing-extensions>=4.7.0 in c:\\users\\user\\anaconda3\\lib\\site-packages (from emoji) (4.11.0)\n",
            "Note: you may need to restart the kernel to use updated packages.\n"
          ]
        }
      ],
      "source": [
        "pip install emoji"
      ]
    },
    {
      "cell_type": "code",
      "execution_count": null,
      "id": "a070aaac-5ddc-4744-a7db-ff832ea096f8",
      "metadata": {
        "id": "a070aaac-5ddc-4744-a7db-ff832ea096f8",
        "outputId": "c1700ba2-405b-4478-94ee-813204ac7da2"
      },
      "outputs": [
        {
          "name": "stdout",
          "output_type": "stream",
          "text": [
            "𑽠0\n"
          ]
        }
      ],
      "source": [
        "import emoji\n",
        "# Display emoji using unicode codeprint\n",
        "grinning_face = emoji.emojize(\"\\U00011F600\") #unicode for grinning_face\n",
        "print(grinning_face)"
      ]
    },
    {
      "cell_type": "code",
      "execution_count": null,
      "id": "460dc05b-e7fd-4ec6-919e-23f77c64c028",
      "metadata": {
        "id": "460dc05b-e7fd-4ec6-919e-23f77c64c028",
        "outputId": "c929fb7e-241c-48dd-b4e2-26ff9375e5bf"
      },
      "outputs": [
        {
          "name": "stdout",
          "output_type": "stream",
          "text": [
            "I 🧡 Tyalor Swift 🎤 and data Science 📊\n"
          ]
        }
      ],
      "source": [
        "heart_emoji=emoji.emojize(':orange_heart:')\n",
        "microphone_emoji= emoji.emojize(':microphone:')\n",
        "barchart_emoji= emoji.emojize(':bar_chart:')\n",
        "sentence= f'I {heart_emoji} Tyalor Swift {microphone_emoji} and data Science {barchart_emoji}'\n",
        "print(sentence)"
      ]
    },
    {
      "cell_type": "code",
      "execution_count": null,
      "id": "ee742047-9088-4345-8faf-e754431c6bff",
      "metadata": {
        "id": "ee742047-9088-4345-8faf-e754431c6bff"
      },
      "outputs": [],
      "source": [
        "def add(num1, num2, num3):\n",
        "    sum3nums = num1 +num2 +num3\n",
        "    return sum3nums\n"
      ]
    },
    {
      "cell_type": "code",
      "execution_count": null,
      "id": "01442afa-dd7a-4087-82ed-fe2ce1c33f44",
      "metadata": {
        "id": "01442afa-dd7a-4087-82ed-fe2ce1c33f44",
        "outputId": "695b8b52-fc1e-476a-9fd9-c71a1ed70dee"
      },
      "outputs": [
        {
          "name": "stdout",
          "output_type": "stream",
          "text": [
            "50.26548245743669\n"
          ]
        }
      ],
      "source": [
        "from math import pi #import the constant pi from math module\n",
        "\n",
        "def area_of_circle(radius):\n",
        "    # area of a circle with the radius\n",
        "    area = pi * radius ** 2\n",
        "    return area\n",
        "radius = 4\n",
        "area = area_of_circle(radius)\n",
        "print(area)"
      ]
    },
    {
      "cell_type": "code",
      "execution_count": null,
      "id": "bf2b8705-6b5a-4e0e-b366-48121aa25ca5",
      "metadata": {
        "id": "bf2b8705-6b5a-4e0e-b366-48121aa25ca5",
        "outputId": "b1924560-cd42-4e44-f036-5836ebf3a7e3"
      },
      "outputs": [
        {
          "name": "stdout",
          "output_type": "stream",
          "text": [
            "Help on function area_of_circle in module __main__:\n",
            "\n",
            "area_of_circle(radius)\n",
            "\n"
          ]
        }
      ],
      "source": [
        "help(area_of_circle)"
      ]
    },
    {
      "cell_type": "code",
      "execution_count": null,
      "id": "aa8de930-4e20-4179-90c6-71245b038a51",
      "metadata": {
        "id": "aa8de930-4e20-4179-90c6-71245b038a51",
        "outputId": "cd22df21-59f1-4ea6-8044-97d22debbda7"
      },
      "outputs": [
        {
          "name": "stdout",
          "output_type": "stream",
          "text": [
            "Help on built-in function print in module builtins:\n",
            "\n",
            "print(*args, sep=' ', end='\\n', file=None, flush=False)\n",
            "    Prints the values to a stream, or to sys.stdout by default.\n",
            "\n",
            "    sep\n",
            "      string inserted between values, default a space.\n",
            "    end\n",
            "      string appended after the last value, default a newline.\n",
            "    file\n",
            "      a file-like object (stream); defaults to the current sys.stdout.\n",
            "    flush\n",
            "      whether to forcibly flush the stream.\n",
            "\n"
          ]
        }
      ],
      "source": [
        "help(print)"
      ]
    },
    {
      "cell_type": "code",
      "execution_count": null,
      "id": "9ee6fe51-3878-471a-9aee-c641d9c6147f",
      "metadata": {
        "id": "9ee6fe51-3878-471a-9aee-c641d9c6147f",
        "outputId": "a4442f88-4195-4171-ef9c-e93da3aa4722"
      },
      "outputs": [
        {
          "name": "stdout",
          "output_type": "stream",
          "text": [
            "11\n"
          ]
        }
      ],
      "source": [
        "x = '1' + '1'\n",
        "print (x)"
      ]
    },
    {
      "cell_type": "code",
      "execution_count": null,
      "id": "9a3dea30-4291-41f8-bdd5-663bc5d0a31d",
      "metadata": {
        "id": "9a3dea30-4291-41f8-bdd5-663bc5d0a31d",
        "outputId": "57a5acae-20e5-43ef-f65a-c3a9b70b7c98"
      },
      "outputs": [
        {
          "name": "stdout",
          "output_type": "stream",
          "text": [
            "1 + 1\n"
          ]
        }
      ],
      "source": [
        "u = '1 + 1'\n",
        "print (u)"
      ]
    },
    {
      "cell_type": "code",
      "execution_count": null,
      "id": "0406a43a-4bf2-45a8-a44c-e5de4702e2ce",
      "metadata": {
        "id": "0406a43a-4bf2-45a8-a44c-e5de4702e2ce",
        "outputId": "9d20dd4a-cd10-4ea2-82de-988a1820fbe0"
      },
      "outputs": [
        {
          "name": "stdout",
          "output_type": "stream",
          "text": [
            "None\n",
            "{'d': 6, 'c': 4, 'a': 10, 'b': 8}\n"
          ]
        }
      ],
      "source": [
        "#python code to merge dict update() method\n",
        "def Merge(dict1, dict2):\n",
        "    return(dict2.update(dict1))\n",
        "\n",
        "# Driver Code\n",
        "dict1 = {'a' : 10, 'b' : 8}\n",
        "dict2 = {'d' : 6, 'c' : 4}\n",
        "\n",
        "# This returns None\n",
        "print(Merge(dict1, dict2))\n",
        "\n",
        "# change mode in dict2\n",
        "print(dict2)"
      ]
    },
    {
      "cell_type": "code",
      "execution_count": null,
      "id": "b058588a-74d0-4f71-829e-46014f784bbe",
      "metadata": {
        "id": "b058588a-74d0-4f71-829e-46014f784bbe"
      },
      "outputs": [],
      "source": []
    }
  ],
  "metadata": {
    "kernelspec": {
      "display_name": "Python 3 (ipykernel)",
      "language": "python",
      "name": "python3"
    },
    "language_info": {
      "codemirror_mode": {
        "name": "ipython",
        "version": 3
      },
      "file_extension": ".py",
      "mimetype": "text/x-python",
      "name": "python",
      "nbconvert_exporter": "python",
      "pygments_lexer": "ipython3",
      "version": "3.12.4"
    },
    "colab": {
      "provenance": [],
      "include_colab_link": true
    }
  },
  "nbformat": 4,
  "nbformat_minor": 5
}