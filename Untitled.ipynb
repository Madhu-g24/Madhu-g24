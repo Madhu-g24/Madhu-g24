{
  "nbformat": 4,
  "nbformat_minor": 0,
  "metadata": {
    "colab": {
      "provenance": [],
      "authorship_tag": "ABX9TyMEIgJTmY6RP9UVeK4W93hX"
    },
    "kernelspec": {
      "name": "python3",
      "display_name": "Python 3"
    },
    "language_info": {
      "name": "python"
    }
  },
  "cells": [
    {
      "cell_type": "markdown",
      "source": [
        "**Question 1**\n",
        "\n",
        "function convert to fahrenheit to degree celcius using faormula\n",
        "degree = (fahren - 32)/(9/5)\n",
        "\n",
        "test data - 20, 100"
      ],
      "metadata": {
        "id": "c0r3s2J7Yosu"
      }
    },
    {
      "cell_type": "markdown",
      "source": [
        "**Pseudocode**\n",
        "\n",
        "    DEFINE Convert Function , Passing ARGUMENT fahren\n",
        "    FORMULA degree = (fahren - 32)/(9/5)\n",
        "    RETURN degree\n",
        "\n",
        "\n",
        "    INPUT Enter Fahrenheit:\n",
        "    CALL convert FUNCTION in Variable Degree\n",
        "    PRINT degree of this fahrenheit temp.{0} is {1}'+ format(fahren,degree)"
      ],
      "metadata": {
        "id": "jGp2aP_3bMC6"
      }
    },
    {
      "cell_type": "code",
      "source": [
        "def convert(fahren):\n",
        "  '''\n",
        "  This function converts fahrenheit into degree\n",
        "\n",
        "  Key Argument:\n",
        "  fahren\n",
        "  '''\n",
        "  degree = (fahren - 32)/(9/5)\n",
        "  return degree"
      ],
      "metadata": {
        "id": "gIx6yah4bLFL"
      },
      "execution_count": 1,
      "outputs": []
    },
    {
      "cell_type": "code",
      "source": [
        "fahren = eval(input(\"Enter Fahrenheit: \"))\n",
        "degree = convert(fahren)\n",
        "print('degree of this fahrenheit temp.{0} is {1}'.format(fahren,degree))"
      ],
      "metadata": {
        "colab": {
          "base_uri": "https://localhost:8080/"
        },
        "id": "SYKZ7bj9bWcH",
        "outputId": "bd669270-449f-4270-d44b-5f5e4a8df5ee"
      },
      "execution_count": 2,
      "outputs": [
        {
          "output_type": "stream",
          "name": "stdout",
          "text": [
            "Enter Fahrenheit: 67\n",
            "degree of this fahrenheit temp.67 is 19.444444444444443\n"
          ]
        }
      ]
    },
    {
      "cell_type": "markdown",
      "source": [
        "**Question 2**\n",
        "\n",
        "list\n",
        "\n",
        "comics = ['Iron-man','captain america','spider-man','thor','deadpool']\n",
        "\n",
        "task\n",
        "\n",
        "*   slice and then print the first and second list items\n",
        "*   slices and then print the second to fourth list items\n",
        "*   slice and then print the fourth and fifth list items\n",
        "*   append 'doctor strange' to the list. print the updated list\n",
        "*   insert headpool before deadpool in the list.print the updated list\n",
        "*   delete iron man. print the updated list\n",
        "\n",
        "\n",
        "\n",
        "\n",
        "\n",
        "\n"
      ],
      "metadata": {
        "id": "5AGMQ_KcfYn_"
      }
    },
    {
      "cell_type": "code",
      "source": [
        "comics = ['Iron-man','captain america','spider-man','thor','deadpool']\n",
        "print(comics[0:2])\n",
        "print(comics[1:4])\n",
        "print(comics[3:5])\n",
        "print(comics.append('doctor strange'))\n",
        "print(comics.insert(4,'headpool'))\n",
        "print(comics.remove('Iron-man'))\n"
      ],
      "metadata": {
        "id": "dCFCvi8thzYZ",
        "colab": {
          "base_uri": "https://localhost:8080/"
        },
        "outputId": "78121399-b8dd-43f1-b361-7b58708b0aab"
      },
      "execution_count": 3,
      "outputs": [
        {
          "output_type": "stream",
          "name": "stdout",
          "text": [
            "['Iron-man', 'captain america']\n",
            "['captain america', 'spider-man', 'thor']\n",
            "['thor', 'deadpool']\n",
            "None\n",
            "None\n",
            "None\n"
          ]
        }
      ]
    }
  ]
}