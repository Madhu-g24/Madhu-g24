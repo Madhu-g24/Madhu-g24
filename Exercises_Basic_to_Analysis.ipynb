{
  "nbformat": 4,
  "nbformat_minor": 0,
  "metadata": {
    "colab": {
      "provenance": []
    },
    "kernelspec": {
      "name": "python3",
      "display_name": "Python 3"
    },
    "language_info": {
      "name": "python"
    }
  },
  "cells": [
    {
      "cell_type": "markdown",
      "source": [
        "## Exercise 1"
      ],
      "metadata": {
        "id": "hyrKLs4DY3n0"
      }
    },
    {
      "cell_type": "markdown",
      "source": [
        "Write a python program that accepts the user’s name (as text) and age (as a number) as input. The program should output a sentence containing the user’s name and age."
      ],
      "metadata": {
        "id": "NeIX40oIZFU7"
      }
    },
    {
      "cell_type": "markdown",
      "source": [
        "**Analysis**\n",
        "\n",
        "The program asks the user to input their name (as text) and age (as a number). It then stores the name as a string and converts the age input into an integer."
      ],
      "metadata": {
        "id": "YnXXdqnA0BgR"
      }
    },
    {
      "cell_type": "markdown",
      "source": [
        "**PseudoCode**\n",
        "\n",
        "BEGIN\n",
        "\n",
        "    PROMPT \"Enter Your Name:\"\n",
        "    READ userName\n",
        "    PRINT userName\n",
        "    PROMPT \"Enter Your Age:\"\n",
        "    READ userAge\n",
        "    PRINT userAge\n",
        "END\n"
      ],
      "metadata": {
        "id": "-srvBHysaJMr"
      }
    },
    {
      "cell_type": "code",
      "source": [
        "#To input any name and age\n",
        "print(input('Enter Your Name:'))\n",
        "print(int(input('Enter Your Age:')))"
      ],
      "metadata": {
        "colab": {
          "base_uri": "https://localhost:8080/"
        },
        "id": "vU8-8mdYaQul",
        "outputId": "2bb4b954-fd03-4f03-b074-0fa4d6a6dd3c"
      },
      "execution_count": 1,
      "outputs": [
        {
          "output_type": "stream",
          "name": "stdout",
          "text": [
            "Enter Your Name:abc\n",
            "abc\n",
            "Enter Your Age:67\n",
            "67\n"
          ]
        }
      ]
    },
    {
      "cell_type": "markdown",
      "source": [
        "## Exercise 2"
      ],
      "metadata": {
        "id": "NXvUQG6lazTM"
      }
    },
    {
      "cell_type": "markdown",
      "source": [
        "Write a python program that use a function to calculate a factorial of 10."
      ],
      "metadata": {
        "id": "2DaEVKDka3NK"
      }
    },
    {
      "cell_type": "markdown",
      "source": [
        "\n",
        "**Analysis**\n",
        "\n",
        "The program defines a function `calculate_factorial(n)` that computes the factorial of a given number `n` by iterating from 1 to `n` and multiplying the numbers together."
      ],
      "metadata": {
        "id": "n8piiGDg1lcG"
      }
    },
    {
      "cell_type": "markdown",
      "source": [
        "**PseudoCode**\n",
        "\n",
        "BEGIN\n",
        "\n",
        "    IMPORT math module\n",
        "    SET number TO 10\n",
        "    CALCULATE factorial of number\n",
        "    STORE result in factorialResult\n",
        "    PRINT \"Factorial of 10 is \" + factorialResult\n",
        "END"
      ],
      "metadata": {
        "id": "JozxHQv0em6q"
      }
    },
    {
      "cell_type": "code",
      "source": [
        "#To find factorial of 10 or any number one wants to input\n",
        "import math # Library for mathematical functions\n",
        "print('Factorial of 10 is {0}:'.format(math.factorial(10)))\n"
      ],
      "metadata": {
        "colab": {
          "base_uri": "https://localhost:8080/"
        },
        "id": "6YV7hCn4gNl4",
        "outputId": "448cd418-4cea-461f-f81d-59c2c0a6fe63"
      },
      "execution_count": 2,
      "outputs": [
        {
          "output_type": "stream",
          "name": "stdout",
          "text": [
            "Factorial of 10 is 3628800:\n"
          ]
        }
      ]
    },
    {
      "cell_type": "markdown",
      "source": [
        "## Exercise 3"
      ],
      "metadata": {
        "id": "OgWoCEwRGMxH"
      }
    },
    {
      "cell_type": "markdown",
      "source": [
        "Write a python program that computes total profit of a user (company). This program should request cost price, sales price, and number of units sold. It should use the formula (sales price – cost price)*number of units sold to compute total profit and then output this result suitably labeled."
      ],
      "metadata": {
        "id": "kj9s2IX_Gpf8"
      }
    },
    {
      "cell_type": "markdown",
      "source": [
        "**Analysis**\n",
        "\n",
        "The program asks the user to input the cost price, sales price, and the number of units sold. Using the formula `(sales price - cost price) * number of units sold`, it computes the total profit."
      ],
      "metadata": {
        "id": "vPWqyU6Q2ara"
      }
    },
    {
      "cell_type": "markdown",
      "source": [
        "**PseudoCode**\n",
        "\n",
        "BEGIN\n",
        "    \n",
        "    PROMPT \"Enter Sales Price:\"\n",
        "    READ salesPrice\n",
        "    PROMPT \"Enter Cost Price:\"\n",
        "    READ costPrice\n",
        "    PROMPT \"Enter Number of Units Sold:\"\n",
        "    READ numberOfUnitsSold\n",
        "    CALCULATE profit AS (salesPrice - costPrice) * numberOfUnitsSold\n",
        "    PRINT \"Total profit is: \" + profit\n",
        "END"
      ],
      "metadata": {
        "id": "RHY_9ZaTGbrj"
      }
    },
    {
      "cell_type": "code",
      "source": [
        "#For calculating profit of any products by using no. of units, cost price and sale price\n",
        "#eval function is used to figure out the data type of entered input.\n",
        "profit =  (eval(input('Enter Sales Price:')) - eval(input('Enter Cost Price:'))) * eval(input('Enter Number of Units Sold:'))\n",
        "print('Total profit is:{0}'.format(profit))"
      ],
      "metadata": {
        "colab": {
          "base_uri": "https://localhost:8080/"
        },
        "id": "47p7lARBGgCO",
        "outputId": "97abd374-a156-4249-af41-7d3dbe0b5803"
      },
      "execution_count": 3,
      "outputs": [
        {
          "output_type": "stream",
          "name": "stdout",
          "text": [
            "Enter Sales Price:5679\n",
            "Enter Cost Price:4908\n",
            "Enter Number of Units Sold:67\n",
            "Total profit is:51657\n"
          ]
        }
      ]
    },
    {
      "cell_type": "markdown",
      "source": [
        "## Exercise 4"
      ],
      "metadata": {
        "id": "tMz_EteJGePz"
      }
    },
    {
      "cell_type": "markdown",
      "source": [
        "Write a python program that computes a user’s income tax. This program should request gross income and number of dependents as input from the user. Assume following tax laws: All taxpayers are charged a flat tax rate of 20%. All taxpayers are allowed a rupees 10,000 standard deduction. For each dependent, a taxpayer is allowed an additional rupees 3,000 deduction. Gross income must be entered to the nearest paisa. The income tax is expressed as a decimal number. Output this result suitably labeled."
      ],
      "metadata": {
        "id": "7oa_rxVBGXPm"
      }
    },
    {
      "cell_type": "markdown",
      "source": [
        "**Analysis**\n",
        "\n",
        "\n",
        "The program requests the user's gross income and the number of dependents. It calculates the income tax by first applying a standard deduction of 10,000 rupees, then adding an additional 3,000 rupees deduction for each dependent. The taxable income is then determined by subtracting the total deductions from the gross income, and a flat 20% tax rate is applied to this amount."
      ],
      "metadata": {
        "id": "tUq-JSkt3Cvs"
      }
    },
    {
      "cell_type": "markdown",
      "source": [
        "**Pseudocode**\n",
        "\n",
        "BEGIN\n",
        "    \n",
        "    SET tax_rate TO 0.20\n",
        "    SET standard_deduction TO 10000\n",
        "    SET dependent_deduction TO 3000\n",
        "\n",
        "    PROMPT \"Enter Gross Income:\"\n",
        "    READ gross_income\n",
        "\n",
        "    PROMPT \"Enter No. of Dependents:\"\n",
        "    READ number_of_dependents\n",
        "\n",
        "    CALCULATE taxable_income AS gross_income - standard_deduction - (dependent_deduction * number_of_dependents)\n",
        "\n",
        "    CALCULATE income_tax AS taxable_income * tax_rate\n",
        "\n",
        "    PRINT \"Income Tax is: \" + income_tax\n",
        "END"
      ],
      "metadata": {
        "id": "JnF8bq_BYzeb"
      }
    },
    {
      "cell_type": "code",
      "source": [
        "tax_rate = .20\n",
        "standard_deduction = 10000\n",
        "dependent_deduction = 3000\n",
        "gross_income = eval(input('Enter Gross Income:'))# eval to find out the data type of entered value\n",
        "number_of_dependents = eval(input('Enter No. of Dependents:'))\n",
        "Taxable_income = gross_income - standard_deduction - (dependent_deduction * number_of_dependents)# formula to calculate taxable income.\n",
        "income_tax = Taxable_income * tax_rate\n",
        "print('Income Tax is:{0}'.format(income_tax))"
      ],
      "metadata": {
        "colab": {
          "base_uri": "https://localhost:8080/"
        },
        "id": "WjxeFic6umwa",
        "outputId": "4e7ea3d0-b912-4e74-aa65-a916a02473fb"
      },
      "execution_count": 4,
      "outputs": [
        {
          "output_type": "stream",
          "name": "stdout",
          "text": [
            "Enter Gross Income:67000\n",
            "Enter No. of Dependents:4\n",
            "Income Tax is:9000.0\n"
          ]
        }
      ]
    },
    {
      "cell_type": "markdown",
      "source": [
        "##Exercise 5"
      ],
      "metadata": {
        "id": "nSCi_7BjEorE"
      }
    },
    {
      "cell_type": "markdown",
      "source": [
        "Suppose that you are promised a payment of rupees 2000 in 5 years time. Assuming a compound interest rate of 3.5 % what is the present value (PV) of this future value (FV)? Calculate this with the formula: PV = FV / ( 1 + rate)^n. We do not want to type the code for this calculation each time we need it. Create a reusable function that we can call to do this for different FV, rate and n. Test case 1- future_value = 2000 rate = 0.035 years = 5. Test case 2- future_value = 350 rate = 0.01 years = 10"
      ],
      "metadata": {
        "id": "pm3BLpK9EwP3"
      }
    },
    {
      "cell_type": "markdown",
      "source": [
        "**Analysis**\n",
        "\n",
        "\n",
        "The program calculates the present value (PV) of a future payment using the formula: \\( PV = \\frac{FV}{(1 + \\text{rate})^n} \\), where \\(FV\\) is the future value, \\( \\text{rate} \\) is the compound interest rate, and \\( n \\) is the number of years. To avoid repetitive code, a reusable function is created that can be called with different values for \\(FV\\), rate, and \\(n\\). The function is tested with two cases: one where the future value is 2000, the rate is 3.5%, and the number of years is 5, and another where the future value is 350, the rate is 1%, and the number of years is 10."
      ],
      "metadata": {
        "id": "74-fXj4F3llJ"
      }
    },
    {
      "cell_type": "markdown",
      "source": [
        "**PseudoCode**\n",
        "\n",
        "BEGIN\n",
        "    \n",
        "    FUNCTION calculate_present_value(future_value, interest_rate, years)\n",
        "    SET present_value AS future_value / (1 + (interest_rate / 100)) ^ years\n",
        "    RETURN round(present_value)\n",
        "END FUNCTION\n",
        "\n",
        "BEGIN\n",
        "    \n",
        "    PROMPT \"Enter Future Value:\"\n",
        "    READ future_value\n",
        "    \n",
        "    PROMPT \"Enter Interest Rate:\"\n",
        "    READ interest_rate\n",
        "\n",
        "    PROMPT \"Enter No. of Years:\"\n",
        "    READ years\n",
        "\n",
        "    CALL calculate_present_value(future_value, interest_rate, years)\n",
        "    STORE result in present_value\n",
        "\n",
        "    PRINT \"Present Value of entered future value for \" + years + \" years at \" + interest_rate + \"% rate is: \" + present_value\n",
        "END"
      ],
      "metadata": {
        "id": "Ac8IC3CHE4mp"
      }
    },
    {
      "cell_type": "code",
      "source": [
        "def calculate_present_value(future_value, interest_rate, years):\n",
        "    '''\n",
        "    This function is desined to find out\n",
        "    the present value of any future value\n",
        "    with given interest rate and years\n",
        "\n",
        "    Key Arguments:\n",
        "    future_value - float or int\n",
        "    interest_rate - float or int\n",
        "    years - int or float\n",
        "    '''\n",
        "    present_value = future_value / (1 + (interest_rate)/100) ** years # formula to calculate present value\n",
        "    return round(present_value)"
      ],
      "metadata": {
        "id": "Y99EH2wcE81s"
      },
      "execution_count": 5,
      "outputs": []
    },
    {
      "cell_type": "code",
      "source": [
        "future_value = eval(input('Enter Future Value:'))# eval to find out the data type of entered value\n",
        "interest_rate = eval(input('Enter Interest Rate:'))\n",
        "years = eval(input('Enter No. of Years:'))\n",
        "present_value = calculate_present_value(future_value, interest_rate, years)# calling function to perform the task defined in it\n",
        "print('Present Value of entered future value {0} for {1} years at {2}% rate is: {3}'.format(future_value,years,interest_rate,present_value))"
      ],
      "metadata": {
        "colab": {
          "base_uri": "https://localhost:8080/"
        },
        "id": "fal--DMHRf1i",
        "outputId": "5c1bff9e-71b1-40e4-cee5-1113269e19c0"
      },
      "execution_count": 6,
      "outputs": [
        {
          "output_type": "stream",
          "name": "stdout",
          "text": [
            "Enter Future Value:67890\n",
            "Enter Interest Rate:6.7\n",
            "Enter No. of Years:5\n",
            "Present Value of entered future value 67890 for 5 years at 6.7% rate is: 49089\n"
          ]
        }
      ]
    },
    {
      "cell_type": "markdown",
      "source": [
        "##Exercise 6"
      ],
      "metadata": {
        "id": "Jp1hz7kPXsaV"
      }
    },
    {
      "cell_type": "markdown",
      "source": [
        "Write a function to convert fahrenheit to Celsius. The function should have a keyword argument for temperature in degrees fahrenheit and return a numeric value for temperature in degrees Celsius. Store the answer in a variable and then print the answer to the user. Answers should be shown to **2 decimal places**. Conversion formula: deg_celsius = (deg_fahrenheit - 32) / (9.0 / 5.0). Test data: (1) Fahrenheit = 20; Celsius = -6.67 (2) Fahrenheit = 100; Celsius = 37.78"
      ],
      "metadata": {
        "id": "xB0oOJIOXxYf"
      }
    },
    {
      "cell_type": "markdown",
      "source": [
        "**Analysis**\n",
        "\n",
        "\n",
        "The program defines a function `fahrenheit_to_celsius` that converts a given temperature in Fahrenheit to Celsius using the formula \\( \\text{deg\\_celsius} = \\frac{(\\text{deg\\_fahrenheit} - 32)}{(9.0 / 5.0)} \\). The function takes the Fahrenheit temperature as an input and returns the Celsius equivalent. The results are then printed, formatted to two decimal places, for two test cases: one where Fahrenheit is 20 (Celsius = -6.67) and another where Fahrenheit is 100 (Celsius = 37.78). The program demonstrates how to use functions with keyword arguments and format numerical output for user-friendly display."
      ],
      "metadata": {
        "id": "A-JPtNlj4anJ"
      }
    },
    {
      "cell_type": "markdown",
      "source": [
        "**PseudoCode**\n",
        "\n",
        "BEGIN\n",
        "\n",
        "    FUNCTION fahren_to_degree(fahren)\n",
        "    SET degree = (fahren - 32)/(9/5)\n",
        "    RETURN round(degree,2)\n",
        "END FUNCTION\n",
        "\n",
        "BEGIN\n",
        "    \n",
        "    PROMPT Enter Fahrenheit:\n",
        "    READ fahren\n",
        "\n",
        "    CALL FUNCTION fahren_to_degree\n",
        "    STORE result in degree\n",
        "\n",
        "    PRINT fahren + \"Fahrenheit =\" + degree + \"Celcius\"\n",
        "END"
      ],
      "metadata": {
        "id": "Fr5U6wbkYVNb"
      }
    },
    {
      "cell_type": "code",
      "source": [
        "def fahren_to_degree(fahren):\n",
        "    '''\n",
        "    This function is desined to convert\n",
        "    fahrenheit to degree celsius\n",
        "\n",
        "    Key Arguments:\n",
        "    fahren - float or int\n",
        "    '''\n",
        "    degree = (fahren - 32) / (9.0 / 5.0)#formula to convert fahren to degree\n",
        "    return round(degree,2)"
      ],
      "metadata": {
        "id": "kiIkK_sMYZcf"
      },
      "execution_count": 7,
      "outputs": []
    },
    {
      "cell_type": "code",
      "source": [
        "fahren = eval(input('Enter Fahrenheit:'))# eval to find out the data type of entered value\n",
        "degree = fahren_to_degree(fahren)\n",
        "print('{0} Fahrenheit = {1} Celsius'.format(fahren,degree))"
      ],
      "metadata": {
        "colab": {
          "base_uri": "https://localhost:8080/"
        },
        "id": "LA5ouKCDcXA4",
        "outputId": "40886686-45af-4829-d4d5-291299e065bd"
      },
      "execution_count": 8,
      "outputs": [
        {
          "output_type": "stream",
          "name": "stdout",
          "text": [
            "Enter Fahrenheit:67\n",
            "67 Fahrenheit = 19.44 Celsius\n"
          ]
        }
      ]
    },
    {
      "cell_type": "markdown",
      "source": [
        "##Excercise 7"
      ],
      "metadata": {
        "id": "Ilq2O-SMfupC"
      }
    },
    {
      "cell_type": "markdown",
      "source": [
        "Write a function that displays a different noise to the user depending on the type of animal specified. The function `animal_call()` requires a single keyword argument `animal` (default == 'mouse'). If the animal is a mouse then print out 'squeak'. Else if the animal is a cat then print out 'meow'. Else if the animal is a dog then print out 'woof'. Else if the animal is a cow then print out 'moo'. Else print out 'Sorry, I do not know what noise that animal makes'."
      ],
      "metadata": {
        "id": "3dLvAlnOf6BA"
      }
    },
    {
      "cell_type": "markdown",
      "source": [
        "**Analysis**\n",
        "\n",
        "\n",
        "The program defines a function `animal_call()` that takes a single keyword argument `animal`, with a default value of 'mouse'. The function checks the specified animal and prints a corresponding sound: 'squeak' for a mouse, 'meow' for a cat, 'woof' for a dog, and 'moo' for a cow. If the animal is not one of these, it outputs a message saying, \"Sorry, I do not know what noise that animal makes.\" The function demonstrates the use of conditional statements to handle different inputs and provides default behavior for unspecified animals."
      ],
      "metadata": {
        "id": "IsJi8ec85zqj"
      }
    },
    {
      "cell_type": "markdown",
      "source": [
        "**Pseudocode**\n",
        "\n",
        "BEGIN\n",
        "\n",
        "    FUNCTION animal_call(animal)\n",
        "    IF animal IS \"mouse\" THEN\n",
        "        PRINT \"squeak\"\n",
        "    ELSE IF animal IS \"cat\" THEN\n",
        "        PRINT \"meow\"\n",
        "    ELSE IF animal IS \"dog\" THEN\n",
        "        PRINT \"woof\"\n",
        "    ELSE IF animal IS \"cow\" THEN\n",
        "        PRINT \"moo\"\n",
        "    ELSE\n",
        "        PRINT \"Sorry, I do not know what noise that animal makes\"\n",
        "END FUNCTION\n",
        "\n",
        "BEGIN\n",
        "\n",
        "    PROMPT Enter Animal:\n",
        "    CALL FUNCTION animal_call()\n",
        "    STORE value in animal\n",
        "END"
      ],
      "metadata": {
        "id": "CUn5MeTFf9l0"
      }
    },
    {
      "cell_type": "code",
      "source": [
        "def animal_call(animal):\n",
        "  '''\n",
        "  This function is desined to display a different noise to the user depending on the type of animal specified.\n",
        "  '''\n",
        "  if animal == 'mouse':\n",
        "    print('squeak')\n",
        "  elif animal == 'cat':\n",
        "    print('meow')\n",
        "  elif animal == 'dog':\n",
        "    print('woof')\n",
        "  elif animal == 'cow':\n",
        "    print('moo')\n",
        "\n",
        "  else:\n",
        "    print('Sorry, I do not know what noise that animal makes')"
      ],
      "metadata": {
        "id": "z6RQnPpigDGH"
      },
      "execution_count": 9,
      "outputs": []
    },
    {
      "cell_type": "code",
      "source": [
        "animal = input('Enter Animal:')\n",
        "animal_call(animal)"
      ],
      "metadata": {
        "colab": {
          "base_uri": "https://localhost:8080/"
        },
        "id": "UU1VawxGl2q5",
        "outputId": "63ab3a05-d54a-461a-d715-2e6d7c560018"
      },
      "execution_count": 10,
      "outputs": [
        {
          "output_type": "stream",
          "name": "stdout",
          "text": [
            "Enter Animal:mouse\n",
            "squeak\n"
          ]
        }
      ]
    },
    {
      "cell_type": "markdown",
      "source": [
        "##Exercise 8"
      ],
      "metadata": {
        "id": "u-x1NfRQpEVp"
      }
    },
    {
      "cell_type": "markdown",
      "source": [
        "Write a function that checks if a number is a multiple of 3, 5 or both. If the number is a multiple of 3 return \"FIZZ\". Else If the number is a multiple of 5 return \"BUZZ\". Else If the number is a multiple of 3 AND 5 return \"FIZZBUZZ\". Else return the number. Input data to test 1, 3, 5, 15, 23. Expected Output 1, \"FIZZ\", \"BUZZ\", \"FIZZBUZZ\", 23."
      ],
      "metadata": {
        "id": "sZepsSMVpIXf"
      }
    },
    {
      "cell_type": "markdown",
      "source": [
        "**Analysis**\n",
        "\n",
        "\n",
        "The program defines a function that checks if a given number is a multiple of 3, 5, or both. It first checks if the number is divisible by both 3 and 5, returning \"FIZZBUZZ\". If not, it checks if the number is divisible by 3, returning \"FIZZ\", or if it is divisible by 5, returning \"BUZZ\". If none of these conditions are met, it simply returns the number itself. The function is tested with input values 1, 3, 5, 15, and 23, producing the expected output: 1, \"FIZZ\", \"BUZZ\", \"FIZZBUZZ\", and 23. The program demonstrates the use of conditional checks for multiples and handling different outcomes based on input."
      ],
      "metadata": {
        "id": "BiH7tqJe6ROq"
      }
    },
    {
      "cell_type": "markdown",
      "source": [
        "**PseudoCode**\n",
        "\n",
        "BEGIN\n",
        "\n",
        "    INPUT: n (the number to test)\n",
        "    IF n is divisible by both 3 and 5:\n",
        "    PRINT \"Fizzbuzz\"\n",
        "    ELSE IF n is divisible by 3:\n",
        "    PRINT \"Fizz\"\n",
        "    ELSE IF n is divisible by 5:\n",
        "    PRINT \"Buzz\"\n",
        "    ELSE:\n",
        "    PRINT n\n",
        "END\n",
        "\n",
        "\n",
        "BEGIN\n",
        "\n",
        "    SET n = 1\n",
        "    WHILE n is less than or equal to 15:\n",
        "    PRINT \"n = n: \" (where n is the current value, formatted with 2 spaces)\n",
        "    CALL fizzbuzz(n)\n",
        "    INCREMENT n by 1\n",
        "END\n"
      ],
      "metadata": {
        "id": "cHs-J-VkpLy4"
      }
    },
    {
      "cell_type": "code",
      "source": [
        "def fizzbuzz(n):\n",
        "  \"\"\"\n",
        "  for multiples of both three and five, print fizzbuzz\n",
        "  for multiples of three, print fizz\n",
        "  for multiples of five, print buzz\n",
        "  for others, print the number\n",
        "\n",
        "  Keyword Arguments:\n",
        "  n-- the number to test\n",
        "  \"\"\"\n",
        "  if n % 3 == 0 and n % 5 == 0:\n",
        "    print('Fizzbuzz')\n",
        "  elif n % 3 == 0:\n",
        "      print(\"Fizz\")\n",
        "  elif n % 5 == 0:\n",
        "        print('buzz')\n",
        "  else:\n",
        "    print(n)"
      ],
      "metadata": {
        "id": "h8p2nhAJpRIX"
      },
      "execution_count": 11,
      "outputs": []
    },
    {
      "cell_type": "code",
      "source": [
        "n = 1\n",
        "while n <= 15: #condition passed to iterate loop below or equal to 15\n",
        "  print('n = {0:2}:'.format(n), end = '')\n",
        "  fizzbuzz(n)\n",
        "  n += 1 #n = n +1"
      ],
      "metadata": {
        "colab": {
          "base_uri": "https://localhost:8080/"
        },
        "id": "-4frK3QUNAc_",
        "outputId": "796f2fe6-775a-4250-f5e4-f19709bcaaab"
      },
      "execution_count": 12,
      "outputs": [
        {
          "output_type": "stream",
          "name": "stdout",
          "text": [
            "n =  1:1\n",
            "n =  2:2\n",
            "n =  3:Fizz\n",
            "n =  4:4\n",
            "n =  5:buzz\n",
            "n =  6:Fizz\n",
            "n =  7:7\n",
            "n =  8:8\n",
            "n =  9:Fizz\n",
            "n = 10:buzz\n",
            "n = 11:11\n",
            "n = 12:Fizz\n",
            "n = 13:13\n",
            "n = 14:14\n",
            "n = 15:Fizzbuzz\n"
          ]
        }
      ]
    },
    {
      "cell_type": "markdown",
      "source": [
        "##Exercise 9"
      ],
      "metadata": {
        "id": "2XY804pWOnd3"
      }
    },
    {
      "cell_type": "markdown",
      "source": [
        "Find the maximum value in a list. Write a function that accepts a `List` of integers as a parameter and then finds and returns the maximum value in the list. Print the result to the screen. Input data: Create a `List` of integer values to_search = [0, 1000, 2, 999, 5, 100, 54]. Expected Output 1000."
      ],
      "metadata": {
        "id": "1WbSvmHrO7Om"
      }
    },
    {
      "cell_type": "markdown",
      "source": [
        "**Analysis**\n",
        "\n",
        "\n",
        "The program defines a function `find_maximum_value()` that takes a list of integers and uses the built-in `max()` function to find and return the maximum value in the list. The function is tested with the list `to_search` containing the integers [0, 1000, 2, 999, 5, 100, 54]. The program then prints the maximum value, which is 1000. This approach leverages Python’s built-in functionality to efficiently identify the largest value in a list and output it."
      ],
      "metadata": {
        "id": "h4Gz22CW6nPP"
      }
    },
    {
      "cell_type": "markdown",
      "source": [
        "**PseudoCode**\n",
        "\n",
        "BEGIN\n",
        "\n",
        "    FUNCTION max_value(to_search):\n",
        "    SET max = to_search[0]\n",
        "    FOR each number in to_search:\n",
        "    IF number > max:\n",
        "    SET max = number\n",
        "    RETURN max\n",
        "\n",
        "    SET to_search = [0, 1000, 2, 999, 5, 100, 54]\n",
        "    CALL max_value(to_search)\n",
        "    PRINT the result\n",
        "END\n"
      ],
      "metadata": {
        "id": "21Hz2wfQPDf3"
      }
    },
    {
      "cell_type": "code",
      "source": [
        "def max_value(to_search):#function to search max value of a list\n",
        "  max = to_search[0]\n",
        "  for i in to_search:\n",
        "    if i > max:\n",
        "      max = i\n",
        "      return max"
      ],
      "metadata": {
        "id": "ReGNa9nFQMUF"
      },
      "execution_count": 13,
      "outputs": []
    },
    {
      "cell_type": "code",
      "source": [
        "to_search = [0, 1000, 2, 999, 5, 100, 54] # list\n",
        "print(max_value(to_search))"
      ],
      "metadata": {
        "colab": {
          "base_uri": "https://localhost:8080/"
        },
        "id": "xhjRi-LZd1su",
        "outputId": "3d4c848b-3e33-41f4-94e7-73e3729a44ea"
      },
      "execution_count": 14,
      "outputs": [
        {
          "output_type": "stream",
          "name": "stdout",
          "text": [
            "1000\n"
          ]
        }
      ]
    },
    {
      "cell_type": "markdown",
      "source": [
        "##Excercise 10\n"
      ],
      "metadata": {
        "id": "OHUjciy6imGN"
      }
    },
    {
      "cell_type": "markdown",
      "source": [
        "Handling missing data. Write a python program that handle missing data on a given dataset. This program should read data file into DataFrame, identify the missing values in the whole DataFrame, delete all rows with missing values (null, nan, na), Check for missing values after deleting rows."
      ],
      "metadata": {
        "id": "7Hy-s7W9irDB"
      }
    },
    {
      "cell_type": "markdown",
      "source": [
        "**Analysis**\n",
        "\n",
        "\n",
        "The program handles missing data in a dataset by first reading the data file into a pandas DataFrame. It identifies any missing values in the entire DataFrame (such as `null`, `NaN`, or `NA`). After identifying the missing data, it deletes all rows that contain any missing values using the `dropna()` function. The program then checks and confirms if any missing values remain in the DataFrame after the rows have been deleted. This approach ensures that the dataset is cleaned by removing incomplete rows, and it verifies that the data is now complete and free of missing values."
      ],
      "metadata": {
        "id": "oCgAxljB8sH6"
      }
    },
    {
      "cell_type": "markdown",
      "source": [
        "**PseudoCode**\n",
        "\n",
        "    IMPORT pandas as pd\n",
        "\n",
        "    LOAD the Excel file from the URL into program_survey_df\n",
        "\n",
        "    PRINT program_survey_df\n",
        "\n",
        "    SET missing_data = total missing values in program_survey_df (using isna() and sum())\n",
        "\n",
        "    PRINT \"Number of missing values in DataFrame: {missing_data}\"\n",
        "\n",
        "    REMOVE rows with any missing values from program_survey_df (using dropna with inplace=True)\n",
        "\n",
        "    SET missing_data = recalculate total missing values in program_survey_df (using isna() and sum())\n",
        "\n",
        "    PRINT \"Number of missing values in DataFrame after deleting rows: {missing_data}\"\n",
        "\n",
        "    PRINT program_survey_df\n"
      ],
      "metadata": {
        "id": "W1xxUq1ni2d5"
      }
    },
    {
      "cell_type": "code",
      "source": [
        "import pandas as pd # library used to perform data management\n",
        "\n",
        "program_survey_df = pd.read_excel('https://www2.census.gov/programs-surveys/demo/tables/p60/265/table6.xls')# upload file\n",
        "print(program_survey_df)\n",
        "\n",
        "# sum() will look missing value in column and double sum() will go through column & rows both.\n",
        "missing_data = pd.isna(program_survey_df).sum().sum()\n",
        "print(\"Number of missing values in DataFrame: {0}\".format(missing_data))\n",
        "\n",
        "#inplace true means changes will be done in original dataframe not in duplicate copy.\n",
        "missing_data = pd.isna(program_survey_df).sum().sum()\n",
        "missing_data = program_survey_df.dropna(how = 'any', inplace = True)\n",
        "print(\"Number of missing values in DataFrame after deleting rows: {0}\".format(missing_data))\n",
        "print(program_survey_df)"
      ],
      "metadata": {
        "id": "ziD5hAc4i_NN",
        "colab": {
          "base_uri": "https://localhost:8080/"
        },
        "outputId": "e65bf3fc-fd3f-4a84-efdc-04d9e6ad5f58"
      },
      "execution_count": 15,
      "outputs": [
        {
          "output_type": "stream",
          "name": "stdout",
          "text": [
            "   Table with row headers in column A and column headers in rows 5 and 6, and in rows 28 and 29  \\\n",
            "0                                          Table A-6.                                             \n",
            "1   Effect of Individual Elements on SPM Rates: 20...                                             \n",
            "2   (Margin of error in percentage points. For inf...                                             \n",
            "3                                             Element                                             \n",
            "4                                                 NaN                                             \n",
            "5                                                2017                                             \n",
            "6                                          All people                                             \n",
            "7                                           ADDITIONS                                             \n",
            "8                                     Social Security                                             \n",
            "9                              Refundable tax credits                                             \n",
            "10                                               SNAP                                             \n",
            "11                                                SSI                                             \n",
            "12                                  Housing subsidies                                             \n",
            "13                             Child support received                                             \n",
            "14                                       School lunch                                             \n",
            "15                            TANF/general assistance                                             \n",
            "16                             Unemployment insurance                                             \n",
            "17                                             LIHEAP                                             \n",
            "18                              Workers' compensation                                             \n",
            "19                                                WIC                                             \n",
            "20                                       SUBTRACTIONS                                             \n",
            "21                                 Child support paid                                             \n",
            "22                                 Federal income tax                                             \n",
            "23                                               FICA                                             \n",
            "24                                      Work expenses                                             \n",
            "25                                   Medical expenses                                             \n",
            "26                                            Element                                             \n",
            "27                                                NaN                                             \n",
            "28                                               2016                                             \n",
            "29                                         All people                                             \n",
            "30                                          ADDITIONS                                             \n",
            "31                                    Social Security                                             \n",
            "32                             Refundable tax credits                                             \n",
            "33                                               SNAP                                             \n",
            "34                                                SSI                                             \n",
            "35                                  Housing subsidies                                             \n",
            "36                             Child support received                                             \n",
            "37                                       School lunch                                             \n",
            "38                            TANF/general assistance                                             \n",
            "39                             Unemployment insurance                                             \n",
            "40                                             LIHEAP                                             \n",
            "41                              Workers' compensation                                             \n",
            "42                                                WIC                                             \n",
            "43                                       SUBTRACTIONS                                             \n",
            "44                                 Child support paid                                             \n",
            "45                                 Federal income tax                                             \n",
            "46                                               FICA                                             \n",
            "47                                      Work expenses                                             \n",
            "48                                   Medical expenses                                             \n",
            "49  † The margin of error (MOE) is a measure of an...                                             \n",
            "50  Note: Details may not sum to totals due to rou...                                             \n",
            "51  Source: U.S. Census Bureau, Current Population...                                             \n",
            "\n",
            "    Unnamed: 1            Unnamed: 2      Unnamed: 3            Unnamed: 4  \\\n",
            "0          NaN                   NaN             NaN                   NaN   \n",
            "1          NaN                   NaN             NaN                   NaN   \n",
            "2          NaN                   NaN             NaN                   NaN   \n",
            "3   All people                   NaN  Under 18 years                   NaN   \n",
            "4     Estimate  Margin of error† (±)        Estimate  Margin of error† (±)   \n",
            "5          NaN                   NaN             NaN                   NaN   \n",
            "6        13.92                  0.31           15.58                  0.53   \n",
            "7          NaN                   NaN             NaN                   NaN   \n",
            "8        -8.36                  0.19           -1.95                  0.18   \n",
            "9        -2.56                  0.12           -6.08                  0.33   \n",
            "10       -1.06                  0.08           -1.99                  0.21   \n",
            "11       -0.99                  0.08           -0.64                  0.11   \n",
            "12       -0.91                  0.08           -1.21                  0.17   \n",
            "13        -0.3                  0.05           -0.71                  0.12   \n",
            "14       -0.38                  0.05           -0.98                  0.14   \n",
            "15       -0.17                  0.03            -0.4                  0.09   \n",
            "16       -0.17                  0.03            -0.2                  0.06   \n",
            "17       -0.06                  0.02           -0.06                  0.03   \n",
            "18       -0.06                  0.02           -0.04                  0.02   \n",
            "19       -0.09                  0.02           -0.21                  0.07   \n",
            "20         NaN                   NaN             NaN                   NaN   \n",
            "21        0.07                  0.02            0.09                  0.04   \n",
            "22        0.47                  0.05            0.35                  0.09   \n",
            "23        1.47                   0.1            1.94                   0.2   \n",
            "24        1.74                  0.11             2.4                  0.22   \n",
            "25        3.38                  0.13            3.13                  0.23   \n",
            "26  All people                   NaN  Under 18 years                   NaN   \n",
            "27    Estimate  Margin of error† (±)        Estimate  Margin of error† (±)   \n",
            "28         NaN                   NaN             NaN                   NaN   \n",
            "29       13.97                  0.25           15.24                  0.47   \n",
            "30         NaN                   NaN             NaN                   NaN   \n",
            "31       -8.15                  0.17           -2.03                  0.18   \n",
            "32       -2.54                  0.13           -5.92                  0.33   \n",
            "33       -1.12                  0.09           -2.04                  0.21   \n",
            "34       -1.05                  0.08           -0.67                   0.1   \n",
            "35       -0.98                  0.07           -1.41                  0.17   \n",
            "36       -0.24                  0.04           -0.57                  0.11   \n",
            "37       -0.41                  0.06           -1.03                  0.16   \n",
            "38       -0.19                  0.04           -0.41                   0.1   \n",
            "39       -0.21                  0.04           -0.28                  0.07   \n",
            "40       -0.05                  0.01           -0.07                  0.04   \n",
            "41       -0.08                  0.02           -0.08                  0.03   \n",
            "42       -0.09                  0.03            -0.2                  0.07   \n",
            "43         NaN                   NaN             NaN                   NaN   \n",
            "44        0.11                  0.02            0.11                  0.04   \n",
            "45        0.46                  0.05            0.31                  0.08   \n",
            "46        1.48                   0.1            1.99                  0.18   \n",
            "47        1.86                  0.12            2.61                  0.21   \n",
            "48        3.29                  0.15            2.91                  0.24   \n",
            "49         NaN                   NaN             NaN                   NaN   \n",
            "50         NaN                   NaN             NaN                   NaN   \n",
            "51         NaN                   NaN             NaN                   NaN   \n",
            "\n",
            "        Unnamed: 5            Unnamed: 6         Unnamed: 7  \\\n",
            "0              NaN                   NaN                NaN   \n",
            "1              NaN                   NaN                NaN   \n",
            "2              NaN                   NaN                NaN   \n",
            "3   18 to 64 years                   NaN  65 years and over   \n",
            "4         Estimate  Margin of error† (±)           Estimate   \n",
            "5              NaN                   NaN                NaN   \n",
            "6            13.25                  0.32              14.11   \n",
            "7              NaN                   NaN                NaN   \n",
            "8               -4                  0.17             -34.56   \n",
            "9            -1.86                  0.09              -0.17   \n",
            "10           -0.83                  0.07               -0.6   \n",
            "11           -1.04                  0.09               -1.3   \n",
            "12            -0.7                  0.07              -1.28   \n",
            "13           -0.21                  0.04              -0.04   \n",
            "14           -0.24                  0.04              -0.03   \n",
            "15           -0.12                  0.02              -0.03   \n",
            "16           -0.18                  0.04              -0.05   \n",
            "17           -0.05                  0.02              -0.09   \n",
            "18           -0.08                  0.03              -0.03   \n",
            "19           -0.06                  0.02              -0.01   \n",
            "20             NaN                   NaN                NaN   \n",
            "21            0.07                  0.02               0.01   \n",
            "22            0.58                  0.06               0.24   \n",
            "23            1.56                   0.1               0.41   \n",
            "24            1.81                  0.11                0.5   \n",
            "25            2.95                  0.13               5.42   \n",
            "26  18 to 64 years                   NaN  65 years and over   \n",
            "27        Estimate  Margin of error† (±)           Estimate   \n",
            "28             NaN                   NaN                NaN   \n",
            "29           13.35                  0.29              14.55   \n",
            "30             NaN                   NaN                NaN   \n",
            "31           -3.79                  0.15             -34.77   \n",
            "32           -1.86                   0.1               -0.2   \n",
            "33           -0.89                  0.07              -0.64   \n",
            "34           -1.15                  0.09              -1.23   \n",
            "35           -0.74                  0.06              -1.27   \n",
            "36           -0.16                  0.03              -0.02   \n",
            "37           -0.27                  0.04              -0.02   \n",
            "38           -0.15                  0.03              -0.04   \n",
            "39           -0.23                  0.04              -0.04   \n",
            "40           -0.04                  0.01              -0.07   \n",
            "41           -0.08                  0.03              -0.05   \n",
            "42           -0.07                  0.02              -0.01   \n",
            "43             NaN                   NaN                NaN   \n",
            "44            0.13                  0.03               0.01   \n",
            "45            0.59                  0.07               0.14   \n",
            "46            1.57                  0.11               0.34   \n",
            "47            1.94                  0.12               0.42   \n",
            "48            2.81                  0.15               5.76   \n",
            "49             NaN                   NaN                NaN   \n",
            "50             NaN                   NaN                NaN   \n",
            "51             NaN                   NaN                NaN   \n",
            "\n",
            "              Unnamed: 8  \n",
            "0                    NaN  \n",
            "1                    NaN  \n",
            "2                    NaN  \n",
            "3                    NaN  \n",
            "4   Margin of error† (±)  \n",
            "5                    NaN  \n",
            "6                   0.54  \n",
            "7                    NaN  \n",
            "8                   0.73  \n",
            "9                   0.06  \n",
            "10                   0.1  \n",
            "11                  0.17  \n",
            "12                  0.13  \n",
            "13                  0.02  \n",
            "14                  0.02  \n",
            "15                  0.03  \n",
            "16                  0.02  \n",
            "17                  0.03  \n",
            "18                  0.03  \n",
            "19                  0.01  \n",
            "20                   NaN  \n",
            "21                  0.01  \n",
            "22                  0.07  \n",
            "23                  0.09  \n",
            "24                  0.09  \n",
            "25                  0.37  \n",
            "26                   NaN  \n",
            "27  Margin of error† (±)  \n",
            "28                   NaN  \n",
            "29                  0.47  \n",
            "30                   NaN  \n",
            "31                  0.73  \n",
            "32                  0.05  \n",
            "33                   0.1  \n",
            "34                  0.13  \n",
            "35                  0.15  \n",
            "36                  0.01  \n",
            "37                  0.02  \n",
            "38                  0.02  \n",
            "39                  0.02  \n",
            "40                  0.03  \n",
            "41                  0.03  \n",
            "42                  0.01  \n",
            "43                   NaN  \n",
            "44                  0.02  \n",
            "45                  0.05  \n",
            "46                  0.07  \n",
            "47                  0.08  \n",
            "48                  0.35  \n",
            "49                   NaN  \n",
            "50                   NaN  \n",
            "51                   NaN  \n",
            "Number of missing values in DataFrame: 106\n",
            "Number of missing values in DataFrame after deleting rows: None\n",
            "   Table with row headers in column A and column headers in rows 5 and 6, and in rows 28 and 29  \\\n",
            "6                                          All people                                             \n",
            "8                                     Social Security                                             \n",
            "9                              Refundable tax credits                                             \n",
            "10                                               SNAP                                             \n",
            "11                                                SSI                                             \n",
            "12                                  Housing subsidies                                             \n",
            "13                             Child support received                                             \n",
            "14                                       School lunch                                             \n",
            "15                            TANF/general assistance                                             \n",
            "16                             Unemployment insurance                                             \n",
            "17                                             LIHEAP                                             \n",
            "18                              Workers' compensation                                             \n",
            "19                                                WIC                                             \n",
            "21                                 Child support paid                                             \n",
            "22                                 Federal income tax                                             \n",
            "23                                               FICA                                             \n",
            "24                                      Work expenses                                             \n",
            "25                                   Medical expenses                                             \n",
            "29                                         All people                                             \n",
            "31                                    Social Security                                             \n",
            "32                             Refundable tax credits                                             \n",
            "33                                               SNAP                                             \n",
            "34                                                SSI                                             \n",
            "35                                  Housing subsidies                                             \n",
            "36                             Child support received                                             \n",
            "37                                       School lunch                                             \n",
            "38                            TANF/general assistance                                             \n",
            "39                             Unemployment insurance                                             \n",
            "40                                             LIHEAP                                             \n",
            "41                              Workers' compensation                                             \n",
            "42                                                WIC                                             \n",
            "44                                 Child support paid                                             \n",
            "45                                 Federal income tax                                             \n",
            "46                                               FICA                                             \n",
            "47                                      Work expenses                                             \n",
            "48                                   Medical expenses                                             \n",
            "\n",
            "   Unnamed: 1 Unnamed: 2 Unnamed: 3 Unnamed: 4 Unnamed: 5 Unnamed: 6  \\\n",
            "6       13.92       0.31      15.58       0.53      13.25       0.32   \n",
            "8       -8.36       0.19      -1.95       0.18         -4       0.17   \n",
            "9       -2.56       0.12      -6.08       0.33      -1.86       0.09   \n",
            "10      -1.06       0.08      -1.99       0.21      -0.83       0.07   \n",
            "11      -0.99       0.08      -0.64       0.11      -1.04       0.09   \n",
            "12      -0.91       0.08      -1.21       0.17       -0.7       0.07   \n",
            "13       -0.3       0.05      -0.71       0.12      -0.21       0.04   \n",
            "14      -0.38       0.05      -0.98       0.14      -0.24       0.04   \n",
            "15      -0.17       0.03       -0.4       0.09      -0.12       0.02   \n",
            "16      -0.17       0.03       -0.2       0.06      -0.18       0.04   \n",
            "17      -0.06       0.02      -0.06       0.03      -0.05       0.02   \n",
            "18      -0.06       0.02      -0.04       0.02      -0.08       0.03   \n",
            "19      -0.09       0.02      -0.21       0.07      -0.06       0.02   \n",
            "21       0.07       0.02       0.09       0.04       0.07       0.02   \n",
            "22       0.47       0.05       0.35       0.09       0.58       0.06   \n",
            "23       1.47        0.1       1.94        0.2       1.56        0.1   \n",
            "24       1.74       0.11        2.4       0.22       1.81       0.11   \n",
            "25       3.38       0.13       3.13       0.23       2.95       0.13   \n",
            "29      13.97       0.25      15.24       0.47      13.35       0.29   \n",
            "31      -8.15       0.17      -2.03       0.18      -3.79       0.15   \n",
            "32      -2.54       0.13      -5.92       0.33      -1.86        0.1   \n",
            "33      -1.12       0.09      -2.04       0.21      -0.89       0.07   \n",
            "34      -1.05       0.08      -0.67        0.1      -1.15       0.09   \n",
            "35      -0.98       0.07      -1.41       0.17      -0.74       0.06   \n",
            "36      -0.24       0.04      -0.57       0.11      -0.16       0.03   \n",
            "37      -0.41       0.06      -1.03       0.16      -0.27       0.04   \n",
            "38      -0.19       0.04      -0.41        0.1      -0.15       0.03   \n",
            "39      -0.21       0.04      -0.28       0.07      -0.23       0.04   \n",
            "40      -0.05       0.01      -0.07       0.04      -0.04       0.01   \n",
            "41      -0.08       0.02      -0.08       0.03      -0.08       0.03   \n",
            "42      -0.09       0.03       -0.2       0.07      -0.07       0.02   \n",
            "44       0.11       0.02       0.11       0.04       0.13       0.03   \n",
            "45       0.46       0.05       0.31       0.08       0.59       0.07   \n",
            "46       1.48        0.1       1.99       0.18       1.57       0.11   \n",
            "47       1.86       0.12       2.61       0.21       1.94       0.12   \n",
            "48       3.29       0.15       2.91       0.24       2.81       0.15   \n",
            "\n",
            "   Unnamed: 7 Unnamed: 8  \n",
            "6       14.11       0.54  \n",
            "8      -34.56       0.73  \n",
            "9       -0.17       0.06  \n",
            "10       -0.6        0.1  \n",
            "11       -1.3       0.17  \n",
            "12      -1.28       0.13  \n",
            "13      -0.04       0.02  \n",
            "14      -0.03       0.02  \n",
            "15      -0.03       0.03  \n",
            "16      -0.05       0.02  \n",
            "17      -0.09       0.03  \n",
            "18      -0.03       0.03  \n",
            "19      -0.01       0.01  \n",
            "21       0.01       0.01  \n",
            "22       0.24       0.07  \n",
            "23       0.41       0.09  \n",
            "24        0.5       0.09  \n",
            "25       5.42       0.37  \n",
            "29      14.55       0.47  \n",
            "31     -34.77       0.73  \n",
            "32       -0.2       0.05  \n",
            "33      -0.64        0.1  \n",
            "34      -1.23       0.13  \n",
            "35      -1.27       0.15  \n",
            "36      -0.02       0.01  \n",
            "37      -0.02       0.02  \n",
            "38      -0.04       0.02  \n",
            "39      -0.04       0.02  \n",
            "40      -0.07       0.03  \n",
            "41      -0.05       0.03  \n",
            "42      -0.01       0.01  \n",
            "44       0.01       0.02  \n",
            "45       0.14       0.05  \n",
            "46       0.34       0.07  \n",
            "47       0.42       0.08  \n",
            "48       5.76       0.35  \n"
          ]
        }
      ]
    },
    {
      "cell_type": "markdown",
      "source": [
        "##Excercise 11"
      ],
      "metadata": {
        "id": "c5Zjwh8BqI60"
      }
    },
    {
      "cell_type": "markdown",
      "source": [
        "Splitting data into Groups. Write a python program that split data into groups based on given criteria. This program should read data into DataFrame, group the data by groupby, and create desired group by get_group"
      ],
      "metadata": {
        "id": "W2nKcAAiqPZ1"
      }
    },
    {
      "cell_type": "markdown",
      "source": [
        "**Analysis**\n",
        "\n",
        "\n",
        "The program reads data into a pandas DataFrame and then splits the data into groups based on a specified criteria using the `groupby()` function. The `groupby()` function organizes the data into groups, and the program uses `get_group()` to retrieve a specific group from the grouped data. This approach allows for efficient segmentation of the dataset, enabling analysis of individual groups based on the given criteria. The program demonstrates how to use pandas' grouping capabilities to organize and access subsets of data based on a defined grouping column."
      ],
      "metadata": {
        "id": "kQy7OBIVTT5x"
      }
    },
    {
      "cell_type": "markdown",
      "source": [
        "**PseudoCode**\n",
        "\n",
        "START\n",
        "\n",
        "    IMPORT pandas as pd  # Module to handle data operations like upload, delete, or insert.\n",
        "\n",
        "    LOAD the Excel file '/content/sample_data/banking.xlsx' into the variable bank.\n",
        "\n",
        "    CONVERT the data in bank into a DataFrame and store it in bank_df.\n",
        "\n",
        "    GROUP the data in bank_df by the 'gender' column and store it in gender_data.\n",
        "\n",
        "    GET the group where 'gender' is 'male' from gender_data and store it in male_group.\n",
        "    PRINT \"Male Group:\" followed by the contents of male_group.\n",
        "\n",
        "    GET the group where 'gender' is 'female' from gender_data and store it in female_group.\n",
        "    PRINT \"Female Group:\" followed by the contents of female_group.\n",
        "\n",
        "\n",
        "END"
      ],
      "metadata": {
        "id": "BAu640-S9SAo"
      }
    },
    {
      "cell_type": "code",
      "source": [
        "import pandas as pd # module to handle dala i.e., upload, delete or insert ...etc.\n",
        "\n",
        "bank = pd.read_excel('/content/banking.xlsx') # uploading file\n",
        "bank_df = pd.DataFrame(data=bank) # converting data into dataframe\n",
        "\n",
        "gender_data = bank_df.groupby('gender') # grouping by gender\n",
        "\n",
        "male_group = gender_data.get_group('male')\n",
        "print(\"Male Group:\\n\", male_group)\n",
        "female_group = gender_data.get_group('female')\n",
        "print(\"\\nFemale Group:\\n\", female_group)"
      ],
      "metadata": {
        "colab": {
          "base_uri": "https://localhost:8080/"
        },
        "id": "kS-fqbBfTTDA",
        "outputId": "56ba885e-95db-47b3-9be6-0c619e88d5d3"
      },
      "execution_count": 17,
      "outputs": [
        {
          "output_type": "stream",
          "name": "stdout",
          "text": [
            "Male Group:\n",
            "       Id gender    age  siblings  Income\n",
            "1      2   male  33.20       0.0   53993\n",
            "2      3   male  22.01       1.0   24400\n",
            "3      4   male  35.10       3.0   12101\n",
            "6      7   male  47.80       1.0   33710\n",
            "10    11   male  43.40       1.0  143526\n",
            "..   ...    ...    ...       ...     ...\n",
            "245  246   male   5.03       0.0     198\n",
            "250  251   male   1.05       0.0      93\n",
            "252  253   male  39.40       2.0  198170\n",
            "253  254   male  54.20       6.0   47919\n",
            "255  256   male  10.03       3.0     877\n",
            "\n",
            "[116 rows x 5 columns]\n",
            "\n",
            "Female Group:\n",
            "       Id  gender    age  siblings Income\n",
            "0      1  female  27.06       1.0   6611\n",
            "4      5  female  33.70       0.0  68043\n",
            "7      8  female  13.02       0.0    407\n",
            "8      9  female  56.70       3.0   3342\n",
            "9     10  female  33.70       4.0  18468\n",
            "..   ...     ...    ...       ...    ...\n",
            "247  248  female  21.07       1.0   1050\n",
            "248  249  female  24.05       0.0   1606\n",
            "249  250  female  42.30       9.0   4081\n",
            "251  252  female   0.20       3.0     15\n",
            "254  255  female   4.08       1.0    516\n",
            "\n",
            "[138 rows x 5 columns]\n"
          ]
        }
      ]
    },
    {
      "cell_type": "markdown",
      "source": [
        "##Excercise 12"
      ],
      "metadata": {
        "id": "-TUDHpneqVQS"
      }
    },
    {
      "cell_type": "markdown",
      "source": [
        "Descriptive analytics using python. Write a python program that computes statistic functions on a given dataset. This program should use pandas to read given dataset, put data in DataFrame, do following statistics computation- `sum`, `min`, `max`, `mean`, `std`. Output your results suitably labeled."
      ],
      "metadata": {
        "id": "MYTEPgquqd--"
      }
    },
    {
      "cell_type": "markdown",
      "source": [
        "**Analysis**\n",
        "\n",
        "\n",
        "The program uses pandas to read a given dataset and loads it into a DataFrame. It then computes several statistical functions on the data, including the sum, minimum, maximum, mean, and standard deviation, using pandas' built-in methods. The program calculates these statistics for the dataset and outputs the results with appropriate labels. This approach allows for quick and efficient descriptive analytics, summarizing the key statistical characteristics of the dataset, which is useful for understanding data distribution and variability."
      ],
      "metadata": {
        "id": "xBGYA1sL9m4v"
      }
    },
    {
      "cell_type": "markdown",
      "source": [
        "**PseudoCode**\n",
        "\n",
        "\n",
        "    IMPORT pandas as pd  # Module for handling data operations.\n",
        "      \n",
        "    LOAD the Excel file '/content/banking.xlsx' into the variable banking.\n",
        "\n",
        "    CONVERT the data in banking into a DataFrame and store it in banking_df.\n",
        "\n",
        "    REMOVE rows with missing values from banking_df using dropna(how='any') and store the result in banking_df1.\n",
        "    PRINT the contents of banking_df1.\n",
        "\n",
        "    FOR each column in ['age', 'siblings', 'Income']:\n",
        "        CONVERT the column data type in banking_df1 to float.\n",
        "\n",
        "    SELECT only numeric columns from banking_df1 (excluding the 'Id' column) and store the result in ncolumns.\n",
        "\n",
        "    CALCULATE the sum of all columns in ncolumns (excluding 'age') and store it in sum_val.\n",
        "    CALCULATE the minimum value of all columns in ncolumns and store it in min_val.\n",
        "    CALCULATE the maximum value of all columns in ncolumns and store it in max_val.\n",
        "    CALCULATE the mean of all columns in ncolumns and store it in mean_val.\n",
        "    CALCULATE the standard deviation of all columns in ncolumns and store it in std_val.\n",
        "\n",
        "    PRINT \"Sum:\" followed by sum_val.\n",
        "    PRINT \"Min:\" followed by min_val.\n",
        "    PRINT \"Max:\" followed by max_val.\n",
        "    PRINT \"Mean:\" followed by mean_val.\n",
        "    PRINT \"Standard Deviation:\" followed by std_val.\n"
      ],
      "metadata": {
        "id": "v2jdkIIaa6r3"
      }
    },
    {
      "cell_type": "code",
      "source": [
        "import pandas as pd\n",
        "\n",
        "banking = pd.read_excel('/content/banking.xlsx') #uploading file\n",
        "banking_df = pd.DataFrame(data = banking) #converting data into dataframe\n",
        "\n",
        "banking_df1 = banking_df.dropna(how='any')# deleting missing value\n",
        "print(banking_df1)\n",
        "\n",
        "for column in ['age', 'siblings', 'Income' ]: # converting all column in float\n",
        "    banking_df1[column] = banking_df[column].astype(float)\n",
        "\n",
        "ncolumns = banking_df1.select_dtypes(include=['number']).drop(columns = ['Id']) # selecting number columns only\n",
        "\n",
        "sum_val = ncolumns.drop(columns=['age']).sum() # Calculating descriptive statistics\n",
        "min_val = ncolumns.min()\n",
        "max_val = ncolumns.max()\n",
        "mean_val = ncolumns.mean()\n",
        "std_val = ncolumns.std()\n",
        "\n",
        "print(\"Sum:\\n\", sum_val)# Output the results\n",
        "print(\"\\nMin:\\n\", min_val)\n",
        "print(\"\\nMax:\\n\", max_val)\n",
        "print(\"\\nMean:\\n\", mean_val)\n",
        "print(\"\\nStandard Deviation:\\n\", std_val)"
      ],
      "metadata": {
        "colab": {
          "base_uri": "https://localhost:8080/"
        },
        "id": "ciyO8l-La7fc",
        "outputId": "d537d644-0d79-4c8c-a5cd-5cb7884fb012"
      },
      "execution_count": 18,
      "outputs": [
        {
          "output_type": "stream",
          "name": "stdout",
          "text": [
            "      Id  gender    age  siblings  Income\n",
            "0      1  female  27.06       1.0    6611\n",
            "1      2    male  33.20       0.0   53993\n",
            "2      3    male  22.01       1.0   24400\n",
            "3      4    male  35.10       3.0   12101\n",
            "4      5  female  33.70       0.0   68043\n",
            "..   ...     ...    ...       ...     ...\n",
            "251  252  female   0.20       3.0      15\n",
            "252  253    male  39.40       2.0  198170\n",
            "253  254    male  54.20       6.0   47919\n",
            "254  255  female   4.08       1.0     516\n",
            "255  256    male  10.03       3.0     877\n",
            "\n",
            "[242 rows x 5 columns]\n",
            "Sum:\n",
            " siblings        535.0\n",
            "Income      3475275.0\n",
            "dtype: float64\n",
            "\n",
            "Min:\n",
            " age         0.2\n",
            "siblings    0.0\n",
            "Income      2.0\n",
            "dtype: float64\n",
            "\n",
            "Max:\n",
            " age             88.2\n",
            "siblings        17.0\n",
            "Income      198170.0\n",
            "dtype: float64\n",
            "\n",
            "Mean:\n",
            " age            25.774132\n",
            "siblings        2.210744\n",
            "Income      14420.228216\n",
            "dtype: float64\n",
            "\n",
            "Standard Deviation:\n",
            " age            19.685717\n",
            "siblings        2.748256\n",
            "Income      26109.948697\n",
            "dtype: float64\n"
          ]
        },
        {
          "output_type": "stream",
          "name": "stderr",
          "text": [
            "<ipython-input-18-f6d593f79079>:10: SettingWithCopyWarning: \n",
            "A value is trying to be set on a copy of a slice from a DataFrame.\n",
            "Try using .loc[row_indexer,col_indexer] = value instead\n",
            "\n",
            "See the caveats in the documentation: https://pandas.pydata.org/pandas-docs/stable/user_guide/indexing.html#returning-a-view-versus-a-copy\n",
            "  banking_df1[column] = banking_df[column].astype(float)\n",
            "<ipython-input-18-f6d593f79079>:10: SettingWithCopyWarning: \n",
            "A value is trying to be set on a copy of a slice from a DataFrame.\n",
            "Try using .loc[row_indexer,col_indexer] = value instead\n",
            "\n",
            "See the caveats in the documentation: https://pandas.pydata.org/pandas-docs/stable/user_guide/indexing.html#returning-a-view-versus-a-copy\n",
            "  banking_df1[column] = banking_df[column].astype(float)\n",
            "<ipython-input-18-f6d593f79079>:10: SettingWithCopyWarning: \n",
            "A value is trying to be set on a copy of a slice from a DataFrame.\n",
            "Try using .loc[row_indexer,col_indexer] = value instead\n",
            "\n",
            "See the caveats in the documentation: https://pandas.pydata.org/pandas-docs/stable/user_guide/indexing.html#returning-a-view-versus-a-copy\n",
            "  banking_df1[column] = banking_df[column].astype(float)\n"
          ]
        }
      ]
    },
    {
      "cell_type": "markdown",
      "source": [
        "##Excercise 13"
      ],
      "metadata": {
        "id": "Rh42DZ9hqi-Y"
      }
    },
    {
      "cell_type": "markdown",
      "source": [
        "Data Visualization using python. This program should use matplotlib.pyplot, Plot two dataframe columns as a scatter plot, plot column values as bar plot."
      ],
      "metadata": {
        "id": "2cZN1E1OqnM8"
      }
    },
    {
      "cell_type": "markdown",
      "source": [
        "**Analysis**\n",
        "\n",
        "\n",
        "The program uses the `matplotlib.pyplot` library to create visualizations for data in a pandas DataFrame. It first plots a scatter plot using two selected columns from the DataFrame, displaying the relationship between the two variables. Then, it generates a bar plot to visualize the values of one column, providing a comparison of the data points. This approach enables effective data visualization, helping to reveal patterns, trends, and distributions in the dataset, making the data analysis more intuitive and accessible.\n"
      ],
      "metadata": {
        "id": "HF0MAl0G-dt3"
      }
    },
    {
      "cell_type": "markdown",
      "source": [
        "**PseudoCode**\n",
        "\n",
        "\n",
        "    IMPORT pandas as pd  # Module for data manipulation.\n",
        "    IMPORT numpy as np  # Module for generating random data.\n",
        "    IMPORT matplotlib.pyplot as plt  # Module for data visualization.\n",
        "\n",
        "    CREATE a DataFrame random_data with the following rows:\n",
        "        - 'Madhu' and a random integer between 25000 and 70000 for 'Income'.\n",
        "        - 'Ajay' and a random integer between 25000 and 70000 for 'Income'.\n",
        "        - 'Reema' and a random integer between 25000 and 70000 for 'Income'.\n",
        "        - 'Yashvi' and a random integer between 25000 and 70000 for 'Income'.\n",
        "        - 'Richa' and a random integer between 25000 and 70000 for 'Income'.\n",
        "        - 'Amit' and a random integer between 25000 and 70000 for 'Income'.\n",
        "        - 'Akhil' and a random integer between 25000 and 70000 for 'Income'.\n",
        "\n",
        "    SET the columns of the DataFrame to ['Name', 'Income'].\n",
        "\n",
        "    PRINT the random_data DataFrame.\n",
        "\n",
        "    PLOT a scatter plot of random_data with:\n",
        "        - 'Name' as the x-axis.\n",
        "        - 'Income' as the y-axis.\n",
        "        - Green color for the points.\n",
        "\n",
        "    PLOT a bar chart of random_data with:\n",
        "        - 'Name' as the x-axis.\n",
        "        - 'Income' as the y-axis.\n",
        "        - Green color for the bars.\n",
        "\n",
        "    DISPLAY the plots using plt.show().\n"
      ],
      "metadata": {
        "id": "f_Im3Xn416Z0"
      }
    },
    {
      "cell_type": "code",
      "source": [
        "import pandas as pd\n",
        "import numpy as np\n",
        "import matplotlib.pyplot as plt # module for visualization\n",
        "\n",
        "random_data = pd.DataFrame([['Madhu',np.random.randint(25000,70000)],\n",
        "['Ajay',np.random.randint(25000,70000)],['Reema',np.random.randint(25000,70000)],\n",
        "['Yashvi',np.random.randint(25000,70000)],['Richa',np.random.randint(25000,70000)],\n",
        "['Amit',np.random.randint(25000,70000)],['Akhil',np.random.randint(25000,70000)]],columns=['Name','Income']) # creating dataframe\n",
        "\n",
        "print (random_data) # previous program dataframe\n",
        "\n",
        "print('\\nScatter Plot: ', random_data.plot(kind= 'scatter', x = 'Name', y = 'Income',color = 'green'))\n",
        "\n",
        "print('\\nBar Plot: ', random_data.plot(kind= 'bar', x = 'Name', y = 'Income',color = 'green'))\n",
        "\n",
        "plt.show()"
      ],
      "metadata": {
        "colab": {
          "base_uri": "https://localhost:8080/",
          "height": 1000
        },
        "id": "RbdpBci_16-S",
        "outputId": "94404376-820d-4fd8-8bd0-972e6c6e3f6c"
      },
      "execution_count": 19,
      "outputs": [
        {
          "output_type": "stream",
          "name": "stdout",
          "text": [
            "     Name  Income\n",
            "0   Madhu   64080\n",
            "1    Ajay   27840\n",
            "2   Reema   50483\n",
            "3  Yashvi   56699\n",
            "4   Richa   57909\n",
            "5    Amit   57815\n",
            "6   Akhil   38761\n",
            "\n",
            "Scatter Plot:  Axes(0.125,0.11;0.775x0.77)\n",
            "\n",
            "Bar Plot:  Axes(0.125,0.11;0.775x0.77)\n"
          ]
        },
        {
          "output_type": "display_data",
          "data": {
            "text/plain": [
              "<Figure size 640x480 with 1 Axes>"
            ],
            "image/png": "[encoded data removed]"
          },
          "metadata": {}
        },
        {
          "output_type": "display_data",
          "data": {
            "text/plain": [
              "<Figure size 640x480 with 1 Axes>"
            ],
            "image/png": "[encoded data removed]"
          },
          "metadata": {}
        }
      ]
    },
    {
      "cell_type": "markdown",
      "source": [
        "##Excercise 14"
      ],
      "metadata": {
        "id": "VOgUMgMOqrlZ"
      }
    },
    {
      "cell_type": "markdown",
      "source": [
        "Predictive analytics using python. Write a python program that use python’s statsmodels module for linear regression, pandas, matplotlib.pyplot, and numpy. This program should read data, define variables, add constant terms, perform regression, and plot regression line."
      ],
      "metadata": {
        "id": "SHBC-WVTqurk"
      }
    },
    {
      "cell_type": "markdown",
      "source": [
        "**Analysis**\n",
        "\n",
        "\n",
        "The program uses Python’s `statsmodels` module for linear regression, along with `pandas`, `matplotlib.pyplot`, and `numpy` for data manipulation and visualization. It starts by reading the dataset into a pandas DataFrame, defining the independent and dependent variables. A constant term is added to the independent variable for the regression model. The program then performs linear regression and plots the regression line on a scatter plot of the data points. This approach helps in predicting outcomes based on linear relationships and visually assessing the model's fit to the data."
      ],
      "metadata": {
        "id": "ZExJBUc2_X0Z"
      }
    },
    {
      "cell_type": "markdown",
      "source": [
        "**PseudoCode**\n",
        "\n",
        "    IMPORT pandas as pd for handling data.\n",
        "    IMPORT numpy as np for generating random data and performing numerical operations.\n",
        "    IMPORT matplotlib.pyplot as plt for creating visualizations.\n",
        "    IMPORT statsmodels.api as sm for performing statistical modeling.\n",
        "\n",
        "    SET a random seed using np.random.seed(9) to ensure reproducibility of random numbers.\n",
        "\n",
        "    GENERATE a dataset:\n",
        "        - CREATE a random array 'sales' of size 18, representing the independent variable, with values scaled by 100.\n",
        "        - COMPUTE 'profit' as 0.2 * sales plus random noise (from np.random.randn(18)) scaled by 0.5, representing the dependent variable.\n",
        "        - STORE the 'sales' and 'profit' data in a pandas DataFrame named sales_data.\n",
        "\n",
        "    PRINT the sales_data DataFrame.\n",
        "\n",
        "    DEFINE the independent (X) and dependent (y) variables:\n",
        "        - SET X to the 'Sales' column from sales_data.\n",
        "        - SET y to the 'Profit' column from sales_data.\n",
        "\n",
        "    ADD a constant term to the independent variable X using sm.add_constant(X).\n",
        "\n",
        "    FIT a linear regression model:\n",
        "        - USE sm.OLS(y, X).fit() to create and fit the model.\n",
        "        - STORE the fitted model in the variable model.\n",
        "\n",
        "    PRINT the summary of the regression model using model.summary().\n",
        "\n",
        "    PREDICT values for y using the fitted model and store them in y_pred.\n",
        "\n",
        "    VISUALIZE the results:\n",
        "        - CREATE a scatter plot of the original data (Sales vs. Profit) using plt.scatter().\n",
        "        - PLOT the regression line (Sales vs. predicted Profit) using plt.plot(), with the line in red.\n",
        "        - SET the x-axis label to 'Sales'.\n",
        "        - SET the y-axis label to 'Profit'.\n",
        "        - SET the plot title to 'Growth Projection'.\n",
        "        - ADD a legend to the plot using plt.legend().\n",
        "        - DISPLAY the plot using plt.show().\n"
      ],
      "metadata": {
        "id": "LzDt3FUo9fpm"
      }
    },
    {
      "cell_type": "code",
      "source": [
        "import pandas as pd\n",
        "import numpy as np\n",
        "import matplotlib.pyplot as plt\n",
        "import statsmodels.api as sm\n",
        "\n",
        "# creating the dataset\n",
        "np.random.seed(9) #\n",
        "sales =  np.random.rand(18)*100 # independent variable\n",
        "profit = 0.2 * sales + np.random.randn(18) * .5 # dependent variables\n",
        "sales_data = pd.DataFrame({'Sales':sales,'Profit':profit})\n",
        "\n",
        "print(sales_data) #Data\n",
        "\n",
        "# Defining the independent (X) and dependent (y) variables\n",
        "X = sales_data['Sales']  # independent_variable\n",
        "y = sales_data['Profit'] # dependent_variable\n",
        "\n",
        "X = sm.add_constant(X)# Add a constant term to the independent variable\n",
        "\n",
        "model = sm.OLS(y, X).fit() # Fit the linear regression model\n",
        "\n",
        "print(model.summary()) # Print the model summary\n",
        "\n",
        "y_pred = model.predict(X) # Predict values using the model\n",
        "\n",
        "plt.scatter(sales_data['Sales'], y, label='Data') # Plot the regression line\n",
        "plt.plot(sales_data['Sales'], y_pred, color='red', label='Regression Line')\n",
        "plt.xlabel('Sales')\n",
        "plt.ylabel('Profit')\n",
        "plt.title('Growth Projection')\n",
        "plt.legend()\n",
        "plt.show()"
      ],
      "metadata": {
        "id": "d9nVvzCDSVCw",
        "colab": {
          "base_uri": "https://localhost:8080/",
          "height": 1000
        },
        "outputId": "ef9d0551-abea-4741-a3f7-403fffa3b25c"
      },
      "execution_count": 20,
      "outputs": [
        {
          "output_type": "stream",
          "name": "stdout",
          "text": [
            "        Sales     Profit\n",
            "0    1.037415   1.118891\n",
            "1   50.187459  10.252876\n",
            "2   49.577329  10.686831\n",
            "3   13.382953   2.226230\n",
            "4   14.211109   2.773659\n",
            "5   21.855868   5.019963\n",
            "6   41.850818   8.707799\n",
            "7   24.810117   4.978002\n",
            "8    8.405965   2.140266\n",
            "9   34.549864   7.100228\n",
            "10  16.677635   3.593711\n",
            "11  87.855909  17.393562\n",
            "12  95.096403  19.123669\n",
            "13   3.874838   0.939173\n",
            "14  69.910739  13.733035\n",
            "15  57.275982  10.409308\n",
            "16  89.800712  17.918848\n",
            "17  66.689897  14.565571\n",
            "                            OLS Regression Results                            \n",
            "==============================================================================\n",
            "Dep. Variable:                 Profit   R-squared:                       0.993\n",
            "Model:                            OLS   Adj. R-squared:                  0.992\n",
            "Method:                 Least Squares   F-statistic:                     2233.\n",
            "Date:                Wed, 26 Feb 2025   Prob (F-statistic):           1.29e-18\n",
            "Time:                        05:50:48   Log-Likelihood:                -13.046\n",
            "No. Observations:                  18   AIC:                             30.09\n",
            "Df Residuals:                      16   BIC:                             31.87\n",
            "Df Model:                           1                                         \n",
            "Covariance Type:            nonrobust                                         \n",
            "==============================================================================\n",
            "                 coef    std err          t      P>|t|      [0.025      0.975]\n",
            "------------------------------------------------------------------------------\n",
            "const          0.3189      0.213      1.496      0.154      -0.133       0.771\n",
            "Sales          0.1967      0.004     47.252      0.000       0.188       0.206\n",
            "==============================================================================\n",
            "Omnibus:                        1.760   Durbin-Watson:                   1.574\n",
            "Prob(Omnibus):                  0.415   Jarque-Bera (JB):                0.375\n",
            "Skew:                          -0.065   Prob(JB):                        0.829\n",
            "Kurtosis:                       3.695   Cond. No.                         87.4\n",
            "==============================================================================\n",
            "\n",
            "Notes:\n",
            "[1] Standard Errors assume that the covariance matrix of the errors is correctly specified.\n"
          ]
        },
        {
          "output_type": "stream",
          "name": "stderr",
          "text": [
            "/usr/local/lib/python3.11/dist-packages/scipy/stats/_axis_nan_policy.py:531: UserWarning: kurtosistest only valid for n>=20 ... continuing anyway, n=18\n",
            "  res = hypotest_fun_out(*samples, **kwds)\n"
          ]
        },
        {
          "output_type": "display_data",
          "data": {
            "text/plain": [
              "<Figure size 640x480 with 1 Axes>"
            ],
            "image/png": "[encoded data removed]"
          },
          "metadata": {}
        }
      ]
    },
    {
      "cell_type": "markdown",
      "source": [
        "##Excercise 15"
      ],
      "metadata": {
        "id": "f3rtYkePqyZs"
      }
    },
    {
      "cell_type": "markdown",
      "source": [
        "Prescriptive analytics using python. Write a python program to find the optimal solution using linprog in SciPy for following problem:\n",
        "A firm produces three types of products: A, B, and C. At least 4 kilograms (kgs) of A, 2 kilograms (kgs) of B, and 1 kilogram (kg) of C have to be produced each day. The inputs used are raw material X and Y.\n",
        "\n",
        "Each kg of X yields 1/4 kgs of A, 1/4 kgs of B and 1/12 kgs of C.\n",
        "Each kg of Y yields 1/2 kgs of A, 1/10 kgs of B and 1/12 kgs of C.\n",
        "X costs rupees 250 per kg, Y costs rupees 400 per kg.\n",
        "The cost of processing each kg of X and Y is rupees 250 and rupees 200 respectively.\n",
        "Amounts of A, B, and C in excess of daily requirements have no value.\n",
        "\n",
        "Formulate the problem of minimizing the total daily cost as a linear programming problem and find the optimal solution."
      ],
      "metadata": {
        "id": "yoZ3PKe_q0_D"
      }
    },
    {
      "cell_type": "markdown",
      "source": [
        "**Analysis**\n",
        "\n",
        "\n",
        "The program uses Python’s `scipy.optimize.linprog` function to solve a linear programming problem that minimizes the daily cost of producing three types of products (A, B, and C) while satisfying production constraints. The problem involves two raw materials, X and Y, each contributing different amounts of products A, B, and C. The goal is to determine the optimal quantities of X and Y to purchase, minimizing both raw material and processing costs, while ensuring that daily production requirements of at least 4 kgs of A, 2 kgs of B, and 1 kg of C are met. The program sets up the linear constraints and cost function, then uses `linprog` to find the optimal solution. This approach demonstrates prescriptive analytics by providing the most cost-effective production plan."
      ],
      "metadata": {
        "id": "OKQFmDT5ARIa"
      }
    },
    {
      "cell_type": "markdown",
      "source": [
        "**PseudoCode**\n",
        "\n",
        "    IMPORT the linprog function from scipy.optimize for solving linear programming problems.\n",
        "\n",
        "    DEFINE the coefficients of the objective function (c):\n",
        "        - c = [500, 600], representing the cost of materials X and Y (including material + processing costs).\n",
        "\n",
        "    DEFINE the coefficients of the inequality constraints (A):\n",
        "        - A[0] = [-0.25, -0.5], representing the constraint for product A.\n",
        "        - A[1] = [-0.25, -0.1], representing the constraint for product B.\n",
        "        - A[2] = [-1/12, -1/12], representing the constraint for product C.\n",
        "\n",
        "    DEFINE the bounds for the inequality constraints (b):\n",
        "        - b[0] = -4, indicating at least 4 kg of product A is required.\n",
        "        - b[1] = -2, indicating at least 2 kg of product B is required.\n",
        "        - b[2] = -1, indicating at least 1 kg of product C is required.\n",
        "\n",
        "    DEFINE the bounds for the decision variables (x_bounds and y_bounds):\n",
        "        - x_bounds = (0, None), meaning the amount of X cannot be negative.\n",
        "        - y_bounds = (0, None), meaning the amount of Y cannot be negative.\n",
        "\n",
        "    SOLVE the linear programming problem using linprog:\n",
        "        - Pass the objective function (c), inequality constraint coefficients (A), constraint bounds (b), and variable bounds (x_bounds and y_bounds) to linprog.\n",
        "\n",
        "    STORE the result in the variable `result`.\n",
        "\n",
        "    PRINT the optimal amounts of material X and Y:\n",
        "        - Use `result.x[0]` for the amount of X.\n",
        "        - Use `result.x[1]` for the amount of Y.\n",
        "\n",
        "    PRINT the optimal or minimal cost of production using `result.fun`.\n",
        "\n",
        "    PRINT the status message from the optimization process using `result.message`.\n"
      ],
      "metadata": {
        "id": "Pci82UnWrPFd"
      }
    },
    {
      "cell_type": "code",
      "source": [
        "from scipy.optimize import linprog\n",
        "\n",
        "# Objective function coefficients (minimize cost)\n",
        "c = [500, 600]  # Cost of X and Y (material + processing)\n",
        "\n",
        "# Inequality constraint coefficients\n",
        "A = [[-0.25, -0.5],  # Constraint for product A\n",
        "     [-0.25, -0.1],  # Constraint for product B\n",
        "     [-1/12, -1/12]] # Constraint for product C\n",
        "\n",
        "# Inequality constraint bounds (at least 4 kgs of A, 2 kgs of B, 1 kg of C)\n",
        "b = [-4, -2, -1]\n",
        "\n",
        "# Bounds for the decision variables (amount of X and Y)\n",
        "x_bounds = (0, None)\n",
        "y_bounds = (0, None)\n",
        "\n",
        "# Solve the linear programming problem\n",
        "result = linprog(c, A_ub=A, b_ub=b, bounds=[x_bounds, y_bounds])\n",
        "\n",
        "# Print the results\n",
        "print(\"Optimal amount of material 'X' {0:.2f} Kg and 'Y' {1:.2f} Kg\".format(result.x[0],result.x[1]))\n",
        "print(\"Optimal or minimal cost:\", result.fun)\n",
        "print(\"Message:\", result.message)"
      ],
      "metadata": {
        "colab": {
          "base_uri": "https://localhost:8080/"
        },
        "id": "YvkFZ4ZlaFaW",
        "outputId": "03f82cad-3a63-4cc3-cbda-df837b7cb696"
      },
      "execution_count": 21,
      "outputs": [
        {
          "output_type": "stream",
          "name": "stdout",
          "text": [
            "Optimal amount of material 'X' 8.00 Kg and 'Y' 4.00 Kg\n",
            "Optimal or minimal cost: 6400.0\n",
            "Message: Optimization terminated successfully. (HiGHS Status 7: Optimal)\n"
          ]
        }
      ]
    }
  ]
}